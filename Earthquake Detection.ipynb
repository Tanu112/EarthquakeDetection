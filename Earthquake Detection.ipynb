{
 "cells": [
  {
   "cell_type": "markdown",
   "metadata": {},
   "source": [
    "# Earthquake Prediction"
   ]
  },
  {
   "cell_type": "code",
   "execution_count": 81,
   "metadata": {},
   "outputs": [],
   "source": [
    "import numpy as np  \n",
    "import pandas as pd  \n",
    "from sklearn import preprocessing;\n",
    "from sklearn import model_selection;\n",
    "from sklearn import linear_model;\n",
    "import os\n",
    "import datetime as dt\n",
    "import matplotlib.pyplot as plt\n",
    "from sklearn import linear_model\n",
    "from sklearn.model_selection import train_test_split\n",
    "from sqlalchemy import create_engine\n",
    "import xgboost as xgb"
   ]
  },
  {
   "cell_type": "code",
   "execution_count": 98,
   "metadata": {},
   "outputs": [],
   "source": [
    "df=pd.read_csv('all_month.csv')"
   ]
  },
  {
   "cell_type": "markdown",
   "metadata": {},
   "source": [
    "### Features in the dataset\n",
    "\n",
    "* time ---------------------- Time when the event occurred. Times are reported in milliseconds since the epoch \n",
    "* latitude ------------------- Decimal degrees latitude. Negative values for southern latitudes.\n",
    "* longitude ------------------ Decimal degrees longitude. Negative values for western longitudes.\n",
    "* depth ---------------------- Depth of the event in kilometers.\n",
    "* mag ------------------------ Magnitude of event occured.\n",
    "* magType -------------------- The method or algorithm used to calculate the preferred magnitude\n",
    "* nst ------------------------ The total number of seismic stations used to determine earthquake location.\n",
    "* gap ------------------------ The largest azimuthal gap between azimuthally adjacent stations (in degrees).\n",
    "* dmin ----------------------- Horizontal distance from the epicenter to the nearest station (in degrees).\n",
    "* rms ------------------------ The root-mean-square (RMS) travel time residual, in sec, using all weights.\n",
    "* net ------------------------- The ID of a data source contributor for event occured.\n",
    "* id -------------------------- A unique identifier for the event. \n",
    "* types ----------------------- A comma-separated list of product types associated to this event.\n",
    "* place ----------------------- named geographic region near to the event.\n",
    "* type ------------------------ Type of seismic event.\n",
    "* locationSource -------------- The network that originally authored the reported location of this event.\n",
    "* magSource ------------------- Network that originally authored the reported magnitude for this event.\n",
    "* horizontalError ------------- Uncertainty of reported location of the event in kilometers.\n",
    "* depthError ------------------ The depth error, three principal errors on a vertical line.\n",
    "* magError -------------------- Uncertainty of reported magnitude of the event.\n",
    "* magNst ---------------------- The total number of seismic stations to calculate the magnitude of earthquake.\n",
    "* status ---------------------- Indicates whether the event has been reviewed by a human.\n",
    "\n",
    "\n"
   ]
  },
  {
   "cell_type": "code",
   "execution_count": 79,
   "metadata": {},
   "outputs": [
    {
     "data": {
      "text/html": [
       "<div>\n",
       "<style scoped>\n",
       "    .dataframe tbody tr th:only-of-type {\n",
       "        vertical-align: middle;\n",
       "    }\n",
       "\n",
       "    .dataframe tbody tr th {\n",
       "        vertical-align: top;\n",
       "    }\n",
       "\n",
       "    .dataframe thead th {\n",
       "        text-align: right;\n",
       "    }\n",
       "</style>\n",
       "<table border=\"1\" class=\"dataframe\">\n",
       "  <thead>\n",
       "    <tr style=\"text-align: right;\">\n",
       "      <th></th>\n",
       "      <th>time</th>\n",
       "      <th>latitude</th>\n",
       "      <th>longitude</th>\n",
       "      <th>depth</th>\n",
       "      <th>mag</th>\n",
       "      <th>magType</th>\n",
       "      <th>nst</th>\n",
       "      <th>gap</th>\n",
       "      <th>dmin</th>\n",
       "      <th>rms</th>\n",
       "      <th>...</th>\n",
       "      <th>updated</th>\n",
       "      <th>place</th>\n",
       "      <th>type</th>\n",
       "      <th>horizontalError</th>\n",
       "      <th>depthError</th>\n",
       "      <th>magError</th>\n",
       "      <th>magNst</th>\n",
       "      <th>status</th>\n",
       "      <th>locationSource</th>\n",
       "      <th>magSource</th>\n",
       "    </tr>\n",
       "  </thead>\n",
       "  <tbody>\n",
       "    <tr>\n",
       "      <th>0</th>\n",
       "      <td>2023-04-12T11:56:00.520Z</td>\n",
       "      <td>38.816166</td>\n",
       "      <td>-122.815498</td>\n",
       "      <td>3.51</td>\n",
       "      <td>0.70</td>\n",
       "      <td>md</td>\n",
       "      <td>12.0</td>\n",
       "      <td>96.0</td>\n",
       "      <td>0.008370</td>\n",
       "      <td>0.02</td>\n",
       "      <td>...</td>\n",
       "      <td>2023-04-12T11:57:36.073Z</td>\n",
       "      <td>7km NW of The Geysers, CA</td>\n",
       "      <td>earthquake</td>\n",
       "      <td>0.48</td>\n",
       "      <td>1.41</td>\n",
       "      <td>0.120</td>\n",
       "      <td>12.0</td>\n",
       "      <td>automatic</td>\n",
       "      <td>nc</td>\n",
       "      <td>nc</td>\n",
       "    </tr>\n",
       "    <tr>\n",
       "      <th>1</th>\n",
       "      <td>2023-04-12T11:55:14.650Z</td>\n",
       "      <td>38.815498</td>\n",
       "      <td>-122.812332</td>\n",
       "      <td>2.79</td>\n",
       "      <td>2.12</td>\n",
       "      <td>md</td>\n",
       "      <td>32.0</td>\n",
       "      <td>46.0</td>\n",
       "      <td>0.008080</td>\n",
       "      <td>0.02</td>\n",
       "      <td>...</td>\n",
       "      <td>2023-04-12T11:56:51.241Z</td>\n",
       "      <td>6km NW of The Geysers, CA</td>\n",
       "      <td>earthquake</td>\n",
       "      <td>0.20</td>\n",
       "      <td>0.38</td>\n",
       "      <td>0.210</td>\n",
       "      <td>29.0</td>\n",
       "      <td>automatic</td>\n",
       "      <td>nc</td>\n",
       "      <td>nc</td>\n",
       "    </tr>\n",
       "    <tr>\n",
       "      <th>2</th>\n",
       "      <td>2023-04-12T11:55:05.620Z</td>\n",
       "      <td>38.816166</td>\n",
       "      <td>-122.813164</td>\n",
       "      <td>2.81</td>\n",
       "      <td>2.39</td>\n",
       "      <td>md</td>\n",
       "      <td>33.0</td>\n",
       "      <td>46.0</td>\n",
       "      <td>0.007611</td>\n",
       "      <td>0.03</td>\n",
       "      <td>...</td>\n",
       "      <td>2023-04-12T11:56:41.358Z</td>\n",
       "      <td>6km NW of The Geysers, CA</td>\n",
       "      <td>earthquake</td>\n",
       "      <td>0.18</td>\n",
       "      <td>0.34</td>\n",
       "      <td>0.140</td>\n",
       "      <td>30.0</td>\n",
       "      <td>automatic</td>\n",
       "      <td>nc</td>\n",
       "      <td>nc</td>\n",
       "    </tr>\n",
       "    <tr>\n",
       "      <th>3</th>\n",
       "      <td>2023-04-12T11:54:42.670Z</td>\n",
       "      <td>38.829834</td>\n",
       "      <td>-122.809998</td>\n",
       "      <td>2.75</td>\n",
       "      <td>1.02</td>\n",
       "      <td>md</td>\n",
       "      <td>7.0</td>\n",
       "      <td>121.0</td>\n",
       "      <td>0.006430</td>\n",
       "      <td>0.03</td>\n",
       "      <td>...</td>\n",
       "      <td>2023-04-12T11:56:16.556Z</td>\n",
       "      <td>8km NW of The Geysers, CA</td>\n",
       "      <td>earthquake</td>\n",
       "      <td>1.07</td>\n",
       "      <td>1.39</td>\n",
       "      <td>0.080</td>\n",
       "      <td>3.0</td>\n",
       "      <td>automatic</td>\n",
       "      <td>nc</td>\n",
       "      <td>nc</td>\n",
       "    </tr>\n",
       "    <tr>\n",
       "      <th>4</th>\n",
       "      <td>2023-04-12T11:51:06.390Z</td>\n",
       "      <td>35.346667</td>\n",
       "      <td>-118.508333</td>\n",
       "      <td>5.24</td>\n",
       "      <td>1.24</td>\n",
       "      <td>ml</td>\n",
       "      <td>14.0</td>\n",
       "      <td>78.0</td>\n",
       "      <td>0.090430</td>\n",
       "      <td>0.13</td>\n",
       "      <td>...</td>\n",
       "      <td>2023-04-12T11:54:36.184Z</td>\n",
       "      <td>24km NNW of Tehachapi, CA</td>\n",
       "      <td>earthquake</td>\n",
       "      <td>0.26</td>\n",
       "      <td>1.28</td>\n",
       "      <td>0.137</td>\n",
       "      <td>16.0</td>\n",
       "      <td>automatic</td>\n",
       "      <td>ci</td>\n",
       "      <td>ci</td>\n",
       "    </tr>\n",
       "  </tbody>\n",
       "</table>\n",
       "<p>5 rows × 22 columns</p>\n",
       "</div>"
      ],
      "text/plain": [
       "                       time   latitude   longitude  depth   mag magType   nst  \\\n",
       "0  2023-04-12T11:56:00.520Z  38.816166 -122.815498   3.51  0.70      md  12.0   \n",
       "1  2023-04-12T11:55:14.650Z  38.815498 -122.812332   2.79  2.12      md  32.0   \n",
       "2  2023-04-12T11:55:05.620Z  38.816166 -122.813164   2.81  2.39      md  33.0   \n",
       "3  2023-04-12T11:54:42.670Z  38.829834 -122.809998   2.75  1.02      md   7.0   \n",
       "4  2023-04-12T11:51:06.390Z  35.346667 -118.508333   5.24  1.24      ml  14.0   \n",
       "\n",
       "     gap      dmin   rms  ...                   updated  \\\n",
       "0   96.0  0.008370  0.02  ...  2023-04-12T11:57:36.073Z   \n",
       "1   46.0  0.008080  0.02  ...  2023-04-12T11:56:51.241Z   \n",
       "2   46.0  0.007611  0.03  ...  2023-04-12T11:56:41.358Z   \n",
       "3  121.0  0.006430  0.03  ...  2023-04-12T11:56:16.556Z   \n",
       "4   78.0  0.090430  0.13  ...  2023-04-12T11:54:36.184Z   \n",
       "\n",
       "                       place        type horizontalError depthError  magError  \\\n",
       "0  7km NW of The Geysers, CA  earthquake            0.48       1.41     0.120   \n",
       "1  6km NW of The Geysers, CA  earthquake            0.20       0.38     0.210   \n",
       "2  6km NW of The Geysers, CA  earthquake            0.18       0.34     0.140   \n",
       "3  8km NW of The Geysers, CA  earthquake            1.07       1.39     0.080   \n",
       "4  24km NNW of Tehachapi, CA  earthquake            0.26       1.28     0.137   \n",
       "\n",
       "   magNst     status  locationSource magSource  \n",
       "0    12.0  automatic              nc        nc  \n",
       "1    29.0  automatic              nc        nc  \n",
       "2    30.0  automatic              nc        nc  \n",
       "3     3.0  automatic              nc        nc  \n",
       "4    16.0  automatic              ci        ci  \n",
       "\n",
       "[5 rows x 22 columns]"
      ]
     },
     "execution_count": 79,
     "metadata": {},
     "output_type": "execute_result"
    }
   ],
   "source": [
    "df.head()"
   ]
  },
  {
   "cell_type": "code",
   "execution_count": 80,
   "metadata": {},
   "outputs": [
    {
     "data": {
      "text/plain": [
       "(12209, 22)"
      ]
     },
     "execution_count": 80,
     "metadata": {},
     "output_type": "execute_result"
    }
   ],
   "source": [
    "df.shape"
   ]
  },
  {
   "cell_type": "code",
   "execution_count": 41,
   "metadata": {},
   "outputs": [
    {
     "data": {
      "text/html": [
       "<div>\n",
       "<style scoped>\n",
       "    .dataframe tbody tr th:only-of-type {\n",
       "        vertical-align: middle;\n",
       "    }\n",
       "\n",
       "    .dataframe tbody tr th {\n",
       "        vertical-align: top;\n",
       "    }\n",
       "\n",
       "    .dataframe thead th {\n",
       "        text-align: right;\n",
       "    }\n",
       "</style>\n",
       "<table border=\"1\" class=\"dataframe\">\n",
       "  <thead>\n",
       "    <tr style=\"text-align: right;\">\n",
       "      <th></th>\n",
       "      <th>latitude</th>\n",
       "      <th>longitude</th>\n",
       "      <th>depth</th>\n",
       "      <th>mag</th>\n",
       "      <th>nst</th>\n",
       "      <th>gap</th>\n",
       "      <th>dmin</th>\n",
       "      <th>rms</th>\n",
       "      <th>horizontalError</th>\n",
       "      <th>depthError</th>\n",
       "      <th>magError</th>\n",
       "      <th>magNst</th>\n",
       "    </tr>\n",
       "  </thead>\n",
       "  <tbody>\n",
       "    <tr>\n",
       "      <th>count</th>\n",
       "      <td>12209.000000</td>\n",
       "      <td>12209.000000</td>\n",
       "      <td>12209.000000</td>\n",
       "      <td>12209.000000</td>\n",
       "      <td>8927.000000</td>\n",
       "      <td>8927.000000</td>\n",
       "      <td>6297.000000</td>\n",
       "      <td>12209.000000</td>\n",
       "      <td>8331.000000</td>\n",
       "      <td>12209.000000</td>\n",
       "      <td>8893.000000</td>\n",
       "      <td>8922.000000</td>\n",
       "    </tr>\n",
       "    <tr>\n",
       "      <th>mean</th>\n",
       "      <td>43.490645</td>\n",
       "      <td>-126.464936</td>\n",
       "      <td>21.434156</td>\n",
       "      <td>1.484353</td>\n",
       "      <td>20.128711</td>\n",
       "      <td>128.362055</td>\n",
       "      <td>0.481750</td>\n",
       "      <td>0.285692</td>\n",
       "      <td>1.351124</td>\n",
       "      <td>1.839047</td>\n",
       "      <td>0.232274</td>\n",
       "      <td>15.190316</td>\n",
       "    </tr>\n",
       "    <tr>\n",
       "      <th>std</th>\n",
       "      <td>17.630397</td>\n",
       "      <td>58.490002</td>\n",
       "      <td>48.189397</td>\n",
       "      <td>1.123443</td>\n",
       "      <td>21.113378</td>\n",
       "      <td>66.074907</td>\n",
       "      <td>1.776069</td>\n",
       "      <td>0.269474</td>\n",
       "      <td>2.537809</td>\n",
       "      <td>6.103214</td>\n",
       "      <td>0.288828</td>\n",
       "      <td>26.101444</td>\n",
       "    </tr>\n",
       "    <tr>\n",
       "      <th>min</th>\n",
       "      <td>-59.586100</td>\n",
       "      <td>-179.957000</td>\n",
       "      <td>-3.200000</td>\n",
       "      <td>-1.320000</td>\n",
       "      <td>0.000000</td>\n",
       "      <td>8.000000</td>\n",
       "      <td>0.000000</td>\n",
       "      <td>0.000000</td>\n",
       "      <td>0.080000</td>\n",
       "      <td>0.000000</td>\n",
       "      <td>0.000000</td>\n",
       "      <td>0.000000</td>\n",
       "    </tr>\n",
       "    <tr>\n",
       "      <th>25%</th>\n",
       "      <td>35.876000</td>\n",
       "      <td>-155.296000</td>\n",
       "      <td>2.469930</td>\n",
       "      <td>0.800000</td>\n",
       "      <td>7.000000</td>\n",
       "      <td>73.000000</td>\n",
       "      <td>0.014570</td>\n",
       "      <td>0.090000</td>\n",
       "      <td>0.280000</td>\n",
       "      <td>0.420000</td>\n",
       "      <td>0.120000</td>\n",
       "      <td>5.000000</td>\n",
       "    </tr>\n",
       "    <tr>\n",
       "      <th>50%</th>\n",
       "      <td>44.611500</td>\n",
       "      <td>-138.750900</td>\n",
       "      <td>6.810000</td>\n",
       "      <td>1.300000</td>\n",
       "      <td>13.000000</td>\n",
       "      <td>116.000000</td>\n",
       "      <td>0.052010</td>\n",
       "      <td>0.170000</td>\n",
       "      <td>0.480000</td>\n",
       "      <td>0.710000</td>\n",
       "      <td>0.178094</td>\n",
       "      <td>9.000000</td>\n",
       "    </tr>\n",
       "    <tr>\n",
       "      <th>75%</th>\n",
       "      <td>58.183167</td>\n",
       "      <td>-117.409833</td>\n",
       "      <td>15.610000</td>\n",
       "      <td>1.900000</td>\n",
       "      <td>26.000000</td>\n",
       "      <td>181.000000</td>\n",
       "      <td>0.134200</td>\n",
       "      <td>0.460000</td>\n",
       "      <td>0.840000</td>\n",
       "      <td>1.330000</td>\n",
       "      <td>0.250000</td>\n",
       "      <td>17.000000</td>\n",
       "    </tr>\n",
       "    <tr>\n",
       "      <th>max</th>\n",
       "      <td>72.930000</td>\n",
       "      <td>179.994100</td>\n",
       "      <td>648.297000</td>\n",
       "      <td>7.000000</td>\n",
       "      <td>324.000000</td>\n",
       "      <td>346.000000</td>\n",
       "      <td>33.062000</td>\n",
       "      <td>2.990000</td>\n",
       "      <td>21.740000</td>\n",
       "      <td>365.300000</td>\n",
       "      <td>5.360000</td>\n",
       "      <td>715.000000</td>\n",
       "    </tr>\n",
       "  </tbody>\n",
       "</table>\n",
       "</div>"
      ],
      "text/plain": [
       "           latitude     longitude         depth           mag          nst  \\\n",
       "count  12209.000000  12209.000000  12209.000000  12209.000000  8927.000000   \n",
       "mean      43.490645   -126.464936     21.434156      1.484353    20.128711   \n",
       "std       17.630397     58.490002     48.189397      1.123443    21.113378   \n",
       "min      -59.586100   -179.957000     -3.200000     -1.320000     0.000000   \n",
       "25%       35.876000   -155.296000      2.469930      0.800000     7.000000   \n",
       "50%       44.611500   -138.750900      6.810000      1.300000    13.000000   \n",
       "75%       58.183167   -117.409833     15.610000      1.900000    26.000000   \n",
       "max       72.930000    179.994100    648.297000      7.000000   324.000000   \n",
       "\n",
       "               gap         dmin           rms  horizontalError    depthError  \\\n",
       "count  8927.000000  6297.000000  12209.000000      8331.000000  12209.000000   \n",
       "mean    128.362055     0.481750      0.285692         1.351124      1.839047   \n",
       "std      66.074907     1.776069      0.269474         2.537809      6.103214   \n",
       "min       8.000000     0.000000      0.000000         0.080000      0.000000   \n",
       "25%      73.000000     0.014570      0.090000         0.280000      0.420000   \n",
       "50%     116.000000     0.052010      0.170000         0.480000      0.710000   \n",
       "75%     181.000000     0.134200      0.460000         0.840000      1.330000   \n",
       "max     346.000000    33.062000      2.990000        21.740000    365.300000   \n",
       "\n",
       "          magError       magNst  \n",
       "count  8893.000000  8922.000000  \n",
       "mean      0.232274    15.190316  \n",
       "std       0.288828    26.101444  \n",
       "min       0.000000     0.000000  \n",
       "25%       0.120000     5.000000  \n",
       "50%       0.178094     9.000000  \n",
       "75%       0.250000    17.000000  \n",
       "max       5.360000   715.000000  "
      ]
     },
     "execution_count": 41,
     "metadata": {},
     "output_type": "execute_result"
    }
   ],
   "source": [
    "df.describe()"
   ]
  },
  {
   "cell_type": "code",
   "execution_count": 42,
   "metadata": {},
   "outputs": [
    {
     "name": "stdout",
     "output_type": "stream",
     "text": [
      "<class 'pandas.core.frame.DataFrame'>\n",
      "RangeIndex: 12209 entries, 0 to 12208\n",
      "Data columns (total 22 columns):\n",
      " #   Column           Non-Null Count  Dtype  \n",
      "---  ------           --------------  -----  \n",
      " 0   time             12209 non-null  object \n",
      " 1   latitude         12209 non-null  float64\n",
      " 2   longitude        12209 non-null  float64\n",
      " 3   depth            12209 non-null  float64\n",
      " 4   mag              12209 non-null  float64\n",
      " 5   magType          12209 non-null  object \n",
      " 6   nst              8927 non-null   float64\n",
      " 7   gap              8927 non-null   float64\n",
      " 8   dmin             6297 non-null   float64\n",
      " 9   rms              12209 non-null  float64\n",
      " 10  net              12209 non-null  object \n",
      " 11  id               12209 non-null  object \n",
      " 12  updated          12209 non-null  object \n",
      " 13  place            12209 non-null  object \n",
      " 14  type             12209 non-null  object \n",
      " 15  horizontalError  8331 non-null   float64\n",
      " 16  depthError       12209 non-null  float64\n",
      " 17  magError         8893 non-null   float64\n",
      " 18  magNst           8922 non-null   float64\n",
      " 19  status           12209 non-null  object \n",
      " 20  locationSource   12209 non-null  object \n",
      " 21  magSource        12209 non-null  object \n",
      "dtypes: float64(12), object(10)\n",
      "memory usage: 2.0+ MB\n"
     ]
    }
   ],
   "source": [
    "df.info()"
   ]
  },
  {
   "cell_type": "markdown",
   "metadata": {},
   "source": [
    "##### We can see lots of null values of certain features, but as part of data wrangling and feature engineering we consider only certain features in final dataframe, hence I choose simply drop or ignore the null values"
   ]
  },
  {
   "cell_type": "code",
   "execution_count": 43,
   "metadata": {},
   "outputs": [
    {
     "data": {
      "text/plain": [
       "time                  0\n",
       "latitude              0\n",
       "longitude             0\n",
       "depth                 0\n",
       "mag                   0\n",
       "magType               0\n",
       "nst                3282\n",
       "gap                3282\n",
       "dmin               5912\n",
       "rms                   0\n",
       "net                   0\n",
       "id                    0\n",
       "updated               0\n",
       "place                 0\n",
       "type                  0\n",
       "horizontalError    3878\n",
       "depthError            0\n",
       "magError           3316\n",
       "magNst             3287\n",
       "status                0\n",
       "locationSource        0\n",
       "magSource             0\n",
       "dtype: int64"
      ]
     },
     "execution_count": 43,
     "metadata": {},
     "output_type": "execute_result"
    }
   ],
   "source": [
    "df.isnull().sum()"
   ]
  },
  {
   "cell_type": "markdown",
   "metadata": {},
   "source": [
    "##### Visualize latitude and longitude feature from 'df' dataframe to see where the points fall from the feature set"
   ]
  },
  {
   "cell_type": "markdown",
   "metadata": {},
   "source": [
    "Below data has been taken from 2020-07-05 to 2020-08-04 only for project walkthrough, but for the web application that has been deployed [here](http://srichaditya3098.pythonanywhere.com/) queries real time data that updates every minute."
   ]
  },
  {
   "cell_type": "code",
   "execution_count": 44,
   "metadata": {},
   "outputs": [
    {
     "data": {
      "image/png": "[encoded data removed]",
      "text/plain": [
       "<Figure size 1080x576 with 1 Axes>"
      ]
     },
     "metadata": {
      "needs_background": "light"
     },
     "output_type": "display_data"
    }
   ],
   "source": [
    "rounding_factor = 10\n",
    "fig, ax = plt.subplots(figsize=(15,8))\n",
    "\n",
    "# latitude and longitude of earthquake site of top 10500 samples.\n",
    "plt.plot(np.round(df['longitude'].head(10500),rounding_factor), \n",
    "         np.round(df['latitude'].head(10500),rounding_factor),\n",
    "         linestyle='none', marker='.')\n",
    "\n",
    "plt.suptitle('Earthquakes from ' + str(np.min(df['time']))[:20] + ' to ' + str(np.max(df['time']))[:20])\n",
    "plt.xlabel('Longitude')\n",
    "plt.ylabel('Latitude')\n",
    "plt.show()"
   ]
  },
  {
   "cell_type": "markdown",
   "metadata": {},
   "source": [
    "#### Clean up the data by first extracting only date from 'time' column by considering string[ : 10]. hence we can get desired date"
   ]
  },
  {
   "cell_type": "code",
   "execution_count": 45,
   "metadata": {},
   "outputs": [
    {
     "data": {
      "text/html": [
       "<div>\n",
       "<style scoped>\n",
       "    .dataframe tbody tr th:only-of-type {\n",
       "        vertical-align: middle;\n",
       "    }\n",
       "\n",
       "    .dataframe tbody tr th {\n",
       "        vertical-align: top;\n",
       "    }\n",
       "\n",
       "    .dataframe thead th {\n",
       "        text-align: right;\n",
       "    }\n",
       "</style>\n",
       "<table border=\"1\" class=\"dataframe\">\n",
       "  <thead>\n",
       "    <tr style=\"text-align: right;\">\n",
       "      <th></th>\n",
       "      <th>time</th>\n",
       "      <th>latitude</th>\n",
       "      <th>longitude</th>\n",
       "      <th>depth</th>\n",
       "      <th>mag</th>\n",
       "      <th>magType</th>\n",
       "      <th>nst</th>\n",
       "      <th>gap</th>\n",
       "      <th>dmin</th>\n",
       "      <th>rms</th>\n",
       "      <th>...</th>\n",
       "      <th>place</th>\n",
       "      <th>type</th>\n",
       "      <th>horizontalError</th>\n",
       "      <th>depthError</th>\n",
       "      <th>magError</th>\n",
       "      <th>magNst</th>\n",
       "      <th>status</th>\n",
       "      <th>locationSource</th>\n",
       "      <th>magSource</th>\n",
       "      <th>date</th>\n",
       "    </tr>\n",
       "  </thead>\n",
       "  <tbody>\n",
       "    <tr>\n",
       "      <th>12208</th>\n",
       "      <td>2023-03-13T12:00:36.847Z</td>\n",
       "      <td>56.174200</td>\n",
       "      <td>-149.585100</td>\n",
       "      <td>10.00</td>\n",
       "      <td>3.20</td>\n",
       "      <td>ml</td>\n",
       "      <td>51.0</td>\n",
       "      <td>196.0</td>\n",
       "      <td>2.30100</td>\n",
       "      <td>0.64</td>\n",
       "      <td>...</td>\n",
       "      <td>229 km SE of Chiniak, Alaska</td>\n",
       "      <td>earthquake</td>\n",
       "      <td>5.84</td>\n",
       "      <td>2.008</td>\n",
       "      <td>0.057000</td>\n",
       "      <td>40.0</td>\n",
       "      <td>reviewed</td>\n",
       "      <td>us</td>\n",
       "      <td>us</td>\n",
       "      <td>2023-03-13</td>\n",
       "    </tr>\n",
       "    <tr>\n",
       "      <th>12207</th>\n",
       "      <td>2023-03-13T12:01:59.247Z</td>\n",
       "      <td>56.205000</td>\n",
       "      <td>-149.626600</td>\n",
       "      <td>10.00</td>\n",
       "      <td>3.20</td>\n",
       "      <td>ml</td>\n",
       "      <td>36.0</td>\n",
       "      <td>222.0</td>\n",
       "      <td>2.26300</td>\n",
       "      <td>0.63</td>\n",
       "      <td>...</td>\n",
       "      <td>225 km SE of Chiniak, Alaska</td>\n",
       "      <td>earthquake</td>\n",
       "      <td>2.74</td>\n",
       "      <td>2.017</td>\n",
       "      <td>0.066000</td>\n",
       "      <td>30.0</td>\n",
       "      <td>reviewed</td>\n",
       "      <td>us</td>\n",
       "      <td>us</td>\n",
       "      <td>2023-03-13</td>\n",
       "    </tr>\n",
       "    <tr>\n",
       "      <th>12206</th>\n",
       "      <td>2023-03-13T12:11:04.470Z</td>\n",
       "      <td>62.385400</td>\n",
       "      <td>-151.138400</td>\n",
       "      <td>77.20</td>\n",
       "      <td>1.20</td>\n",
       "      <td>ml</td>\n",
       "      <td>NaN</td>\n",
       "      <td>NaN</td>\n",
       "      <td>NaN</td>\n",
       "      <td>0.36</td>\n",
       "      <td>...</td>\n",
       "      <td>22 km WSW of Petersville, Alaska</td>\n",
       "      <td>earthquake</td>\n",
       "      <td>NaN</td>\n",
       "      <td>0.600</td>\n",
       "      <td>NaN</td>\n",
       "      <td>NaN</td>\n",
       "      <td>reviewed</td>\n",
       "      <td>ak</td>\n",
       "      <td>ak</td>\n",
       "      <td>2023-03-13</td>\n",
       "    </tr>\n",
       "    <tr>\n",
       "      <th>12205</th>\n",
       "      <td>2023-03-13T12:11:59.930Z</td>\n",
       "      <td>38.897333</td>\n",
       "      <td>-122.867333</td>\n",
       "      <td>1.93</td>\n",
       "      <td>0.80</td>\n",
       "      <td>md</td>\n",
       "      <td>11.0</td>\n",
       "      <td>261.0</td>\n",
       "      <td>0.03929</td>\n",
       "      <td>0.03</td>\n",
       "      <td>...</td>\n",
       "      <td>9km SSW of Kelseyville, CA</td>\n",
       "      <td>earthquake</td>\n",
       "      <td>0.74</td>\n",
       "      <td>1.190</td>\n",
       "      <td>0.226000</td>\n",
       "      <td>12.0</td>\n",
       "      <td>reviewed</td>\n",
       "      <td>nc</td>\n",
       "      <td>nc</td>\n",
       "      <td>2023-03-13</td>\n",
       "    </tr>\n",
       "    <tr>\n",
       "      <th>12204</th>\n",
       "      <td>2023-03-13T12:20:40.330Z</td>\n",
       "      <td>17.981500</td>\n",
       "      <td>-66.970000</td>\n",
       "      <td>45.56</td>\n",
       "      <td>2.54</td>\n",
       "      <td>md</td>\n",
       "      <td>9.0</td>\n",
       "      <td>167.0</td>\n",
       "      <td>0.07166</td>\n",
       "      <td>0.09</td>\n",
       "      <td>...</td>\n",
       "      <td>5 km W of Fuig, Puerto Rico</td>\n",
       "      <td>earthquake</td>\n",
       "      <td>0.58</td>\n",
       "      <td>0.770</td>\n",
       "      <td>0.171071</td>\n",
       "      <td>8.0</td>\n",
       "      <td>reviewed</td>\n",
       "      <td>pr</td>\n",
       "      <td>pr</td>\n",
       "      <td>2023-03-13</td>\n",
       "    </tr>\n",
       "  </tbody>\n",
       "</table>\n",
       "<p>5 rows × 23 columns</p>\n",
       "</div>"
      ],
      "text/plain": [
       "                           time   latitude   longitude  depth   mag magType  \\\n",
       "12208  2023-03-13T12:00:36.847Z  56.174200 -149.585100  10.00  3.20      ml   \n",
       "12207  2023-03-13T12:01:59.247Z  56.205000 -149.626600  10.00  3.20      ml   \n",
       "12206  2023-03-13T12:11:04.470Z  62.385400 -151.138400  77.20  1.20      ml   \n",
       "12205  2023-03-13T12:11:59.930Z  38.897333 -122.867333   1.93  0.80      md   \n",
       "12204  2023-03-13T12:20:40.330Z  17.981500  -66.970000  45.56  2.54      md   \n",
       "\n",
       "        nst    gap     dmin   rms  ...                             place  \\\n",
       "12208  51.0  196.0  2.30100  0.64  ...      229 km SE of Chiniak, Alaska   \n",
       "12207  36.0  222.0  2.26300  0.63  ...      225 km SE of Chiniak, Alaska   \n",
       "12206   NaN    NaN      NaN  0.36  ...  22 km WSW of Petersville, Alaska   \n",
       "12205  11.0  261.0  0.03929  0.03  ...        9km SSW of Kelseyville, CA   \n",
       "12204   9.0  167.0  0.07166  0.09  ...       5 km W of Fuig, Puerto Rico   \n",
       "\n",
       "             type horizontalError depthError  magError  magNst    status  \\\n",
       "12208  earthquake            5.84      2.008  0.057000    40.0  reviewed   \n",
       "12207  earthquake            2.74      2.017  0.066000    30.0  reviewed   \n",
       "12206  earthquake             NaN      0.600       NaN     NaN  reviewed   \n",
       "12205  earthquake            0.74      1.190  0.226000    12.0  reviewed   \n",
       "12204  earthquake            0.58      0.770  0.171071     8.0  reviewed   \n",
       "\n",
       "       locationSource  magSource        date  \n",
       "12208              us         us  2023-03-13  \n",
       "12207              us         us  2023-03-13  \n",
       "12206              ak         ak  2023-03-13  \n",
       "12205              nc         nc  2023-03-13  \n",
       "12204              pr         pr  2023-03-13  \n",
       "\n",
       "[5 rows x 23 columns]"
      ]
     },
     "execution_count": 45,
     "metadata": {},
     "output_type": "execute_result"
    }
   ],
   "source": [
    "df = df.sort_values('time', ascending=True)\n",
    "\n",
    "#Date extraction\n",
    "df['date'] = df['time'].str[0:10]\n",
    "df.head()"
   ]
  },
  {
   "cell_type": "markdown",
   "metadata": {},
   "source": [
    "##### Data cleaning for seperating 'place' column. hence only consider city by seperating string by ', '"
   ]
  },
  {
   "cell_type": "code",
   "execution_count": 46,
   "metadata": {},
   "outputs": [],
   "source": [
    "# only keep the columns needed\n",
    "df = df[['date', 'latitude', 'longitude', 'depth', 'mag', 'place']]\n",
    "# df['date'] = df['time'].str.split(', ', expand=True) \n",
    "newdf = df['place'].str.split(', ', expand=True) \n"
   ]
  },
  {
   "cell_type": "code",
   "execution_count": 47,
   "metadata": {},
   "outputs": [
    {
     "data": {
      "text/html": [
       "<div>\n",
       "<style scoped>\n",
       "    .dataframe tbody tr th:only-of-type {\n",
       "        vertical-align: middle;\n",
       "    }\n",
       "\n",
       "    .dataframe tbody tr th {\n",
       "        vertical-align: top;\n",
       "    }\n",
       "\n",
       "    .dataframe thead th {\n",
       "        text-align: right;\n",
       "    }\n",
       "</style>\n",
       "<table border=\"1\" class=\"dataframe\">\n",
       "  <thead>\n",
       "    <tr style=\"text-align: right;\">\n",
       "      <th></th>\n",
       "      <th>0</th>\n",
       "      <th>1</th>\n",
       "      <th>2</th>\n",
       "    </tr>\n",
       "  </thead>\n",
       "  <tbody>\n",
       "    <tr>\n",
       "      <th>12208</th>\n",
       "      <td>229 km SE of Chiniak</td>\n",
       "      <td>Alaska</td>\n",
       "      <td>None</td>\n",
       "    </tr>\n",
       "    <tr>\n",
       "      <th>12207</th>\n",
       "      <td>225 km SE of Chiniak</td>\n",
       "      <td>Alaska</td>\n",
       "      <td>None</td>\n",
       "    </tr>\n",
       "    <tr>\n",
       "      <th>12206</th>\n",
       "      <td>22 km WSW of Petersville</td>\n",
       "      <td>Alaska</td>\n",
       "      <td>None</td>\n",
       "    </tr>\n",
       "    <tr>\n",
       "      <th>12205</th>\n",
       "      <td>9km SSW of Kelseyville</td>\n",
       "      <td>CA</td>\n",
       "      <td>None</td>\n",
       "    </tr>\n",
       "    <tr>\n",
       "      <th>12204</th>\n",
       "      <td>5 km W of Fuig</td>\n",
       "      <td>Puerto Rico</td>\n",
       "      <td>None</td>\n",
       "    </tr>\n",
       "  </tbody>\n",
       "</table>\n",
       "</div>"
      ],
      "text/plain": [
       "                              0            1     2\n",
       "12208      229 km SE of Chiniak       Alaska  None\n",
       "12207      225 km SE of Chiniak       Alaska  None\n",
       "12206  22 km WSW of Petersville       Alaska  None\n",
       "12205    9km SSW of Kelseyville           CA  None\n",
       "12204            5 km W of Fuig  Puerto Rico  None"
      ]
     },
     "execution_count": 47,
     "metadata": {},
     "output_type": "execute_result"
    }
   ],
   "source": [
    "newdf.head()"
   ]
  },
  {
   "cell_type": "code",
   "execution_count": 48,
   "metadata": {},
   "outputs": [],
   "source": [
    "df['place'] = newdf[1]\n",
    "df = df[['date', 'latitude', 'longitude', 'depth', 'mag', 'place']]"
   ]
  },
  {
   "cell_type": "code",
   "execution_count": 49,
   "metadata": {},
   "outputs": [
    {
     "data": {
      "text/html": [
       "<div>\n",
       "<style scoped>\n",
       "    .dataframe tbody tr th:only-of-type {\n",
       "        vertical-align: middle;\n",
       "    }\n",
       "\n",
       "    .dataframe tbody tr th {\n",
       "        vertical-align: top;\n",
       "    }\n",
       "\n",
       "    .dataframe thead th {\n",
       "        text-align: right;\n",
       "    }\n",
       "</style>\n",
       "<table border=\"1\" class=\"dataframe\">\n",
       "  <thead>\n",
       "    <tr style=\"text-align: right;\">\n",
       "      <th></th>\n",
       "      <th>date</th>\n",
       "      <th>latitude</th>\n",
       "      <th>longitude</th>\n",
       "      <th>depth</th>\n",
       "      <th>mag</th>\n",
       "      <th>place</th>\n",
       "    </tr>\n",
       "  </thead>\n",
       "  <tbody>\n",
       "    <tr>\n",
       "      <th>12208</th>\n",
       "      <td>2023-03-13</td>\n",
       "      <td>56.174200</td>\n",
       "      <td>-149.585100</td>\n",
       "      <td>10.00</td>\n",
       "      <td>3.20</td>\n",
       "      <td>Alaska</td>\n",
       "    </tr>\n",
       "    <tr>\n",
       "      <th>12207</th>\n",
       "      <td>2023-03-13</td>\n",
       "      <td>56.205000</td>\n",
       "      <td>-149.626600</td>\n",
       "      <td>10.00</td>\n",
       "      <td>3.20</td>\n",
       "      <td>Alaska</td>\n",
       "    </tr>\n",
       "    <tr>\n",
       "      <th>12206</th>\n",
       "      <td>2023-03-13</td>\n",
       "      <td>62.385400</td>\n",
       "      <td>-151.138400</td>\n",
       "      <td>77.20</td>\n",
       "      <td>1.20</td>\n",
       "      <td>Alaska</td>\n",
       "    </tr>\n",
       "    <tr>\n",
       "      <th>12205</th>\n",
       "      <td>2023-03-13</td>\n",
       "      <td>38.897333</td>\n",
       "      <td>-122.867333</td>\n",
       "      <td>1.93</td>\n",
       "      <td>0.80</td>\n",
       "      <td>CA</td>\n",
       "    </tr>\n",
       "    <tr>\n",
       "      <th>12204</th>\n",
       "      <td>2023-03-13</td>\n",
       "      <td>17.981500</td>\n",
       "      <td>-66.970000</td>\n",
       "      <td>45.56</td>\n",
       "      <td>2.54</td>\n",
       "      <td>Puerto Rico</td>\n",
       "    </tr>\n",
       "  </tbody>\n",
       "</table>\n",
       "</div>"
      ],
      "text/plain": [
       "             date   latitude   longitude  depth   mag        place\n",
       "12208  2023-03-13  56.174200 -149.585100  10.00  3.20       Alaska\n",
       "12207  2023-03-13  56.205000 -149.626600  10.00  3.20       Alaska\n",
       "12206  2023-03-13  62.385400 -151.138400  77.20  1.20       Alaska\n",
       "12205  2023-03-13  38.897333 -122.867333   1.93  0.80           CA\n",
       "12204  2023-03-13  17.981500  -66.970000  45.56  2.54  Puerto Rico"
      ]
     },
     "execution_count": 49,
     "metadata": {},
     "output_type": "execute_result"
    }
   ],
   "source": [
    "df.head()"
   ]
  },
  {
   "cell_type": "code",
   "execution_count": 50,
   "metadata": {},
   "outputs": [
    {
     "name": "stdout",
     "output_type": "stream",
     "text": [
      "total locations: 95\n"
     ]
    }
   ],
   "source": [
    "print('total locations:',len(set(df['place'])))"
   ]
  },
  {
   "cell_type": "markdown",
   "metadata": {},
   "source": [
    "#### Bar plot of mean magnitude vs place, as we can see from the graph, only few countries are considered as epicenter or dangerous since they have magnitude more than 2.8 (I have considered here)"
   ]
  },
  {
   "cell_type": "code",
   "execution_count": 51,
   "metadata": {},
   "outputs": [
    {
     "data": {
      "image/png": "[encoded data removed]",
      "text/plain": [
       "<Figure size 1080x576 with 1 Axes>"
      ]
     },
     "metadata": {
      "needs_background": "light"
     },
     "output_type": "display_data"
    }
   ],
   "source": [
    "df.groupby(['place'])['mag'].mean().plot(kind='bar',figsize=(15,8));"
   ]
  },
  {
   "cell_type": "code",
   "execution_count": 52,
   "metadata": {},
   "outputs": [
    {
     "data": {
      "text/plain": [
       "<AxesSubplot:xlabel='place'>"
      ]
     },
     "execution_count": 52,
     "metadata": {},
     "output_type": "execute_result"
    },
    {
     "data": {
      "image/png": "[encoded data removed]",
      "text/plain": [
       "<Figure size 432x288 with 1 Axes>"
      ]
     },
     "metadata": {
      "needs_background": "light"
     },
     "output_type": "display_data"
    }
   ],
   "source": [
    "df.groupby(['place'])['mag'].mean().nsmallest(20).plot(kind='bar')"
   ]
  },
  {
   "cell_type": "code",
   "execution_count": 53,
   "metadata": {},
   "outputs": [
    {
     "data": {
      "text/plain": [
       "<AxesSubplot:xlabel='place'>"
      ]
     },
     "execution_count": 53,
     "metadata": {},
     "output_type": "execute_result"
    },
    {
     "data": {
      "image/png": "[encoded data removed]",
      "text/plain": [
       "<Figure size 432x288 with 1 Axes>"
      ]
     },
     "metadata": {
      "needs_background": "light"
     },
     "output_type": "display_data"
    }
   ],
   "source": [
    "df.groupby(['place'])['mag'].mean().nlargest(20).plot(kind='bar')"
   ]
  },
  {
   "cell_type": "code",
   "execution_count": 54,
   "metadata": {},
   "outputs": [],
   "source": [
    "more_dangerous_places=df.groupby('place')['mag'].mean()\n",
    "more_dangerous_places=more_dangerous_places[more_dangerous_places>3]"
   ]
  },
  {
   "cell_type": "markdown",
   "metadata": {},
   "source": [
    "##### Lets consider 3 as threshold for how high the earthquake has hit and lets visualise countries with more than 3 magnitude."
   ]
  },
  {
   "cell_type": "code",
   "execution_count": 55,
   "metadata": {},
   "outputs": [
    {
     "data": {
      "image/png": "[encoded data removed]",
      "text/plain": [
       "<Figure size 1080x576 with 1 Axes>"
      ]
     },
     "metadata": {
      "needs_background": "light"
     },
     "output_type": "display_data"
    }
   ],
   "source": [
    "more_dangerous_places.plot(kind='bar',figsize= (15,8));"
   ]
  },
  {
   "cell_type": "code",
   "execution_count": 56,
   "metadata": {},
   "outputs": [],
   "source": [
    "# calculate mean latitude and longitude for simplified locations\n",
    "\n",
    "df_coords = df[['place', 'latitude', 'longitude']]\n",
    "df_coords = df_coords.groupby(['place'], as_index=False).mean()\n",
    "df_coords = df_coords[['place', 'latitude', 'longitude']]"
   ]
  },
  {
   "cell_type": "code",
   "execution_count": 57,
   "metadata": {},
   "outputs": [
    {
     "data": {
      "text/html": [
       "<div>\n",
       "<style scoped>\n",
       "    .dataframe tbody tr th:only-of-type {\n",
       "        vertical-align: middle;\n",
       "    }\n",
       "\n",
       "    .dataframe tbody tr th {\n",
       "        vertical-align: top;\n",
       "    }\n",
       "\n",
       "    .dataframe thead th {\n",
       "        text-align: right;\n",
       "    }\n",
       "</style>\n",
       "<table border=\"1\" class=\"dataframe\">\n",
       "  <thead>\n",
       "    <tr style=\"text-align: right;\">\n",
       "      <th></th>\n",
       "      <th>place</th>\n",
       "      <th>latitude</th>\n",
       "      <th>longitude</th>\n",
       "    </tr>\n",
       "  </thead>\n",
       "  <tbody>\n",
       "    <tr>\n",
       "      <th>0</th>\n",
       "      <td>Afghanistan</td>\n",
       "      <td>36.208935</td>\n",
       "      <td>70.727129</td>\n",
       "    </tr>\n",
       "    <tr>\n",
       "      <th>1</th>\n",
       "      <td>Alaska</td>\n",
       "      <td>57.907929</td>\n",
       "      <td>-158.039976</td>\n",
       "    </tr>\n",
       "    <tr>\n",
       "      <th>2</th>\n",
       "      <td>Albania</td>\n",
       "      <td>40.427933</td>\n",
       "      <td>20.677600</td>\n",
       "    </tr>\n",
       "    <tr>\n",
       "      <th>3</th>\n",
       "      <td>Aleutian Islands</td>\n",
       "      <td>52.259693</td>\n",
       "      <td>-160.112324</td>\n",
       "    </tr>\n",
       "    <tr>\n",
       "      <th>4</th>\n",
       "      <td>Argentina</td>\n",
       "      <td>-27.437281</td>\n",
       "      <td>-66.784112</td>\n",
       "    </tr>\n",
       "  </tbody>\n",
       "</table>\n",
       "</div>"
      ],
      "text/plain": [
       "              place   latitude   longitude\n",
       "0       Afghanistan  36.208935   70.727129\n",
       "1            Alaska  57.907929 -158.039976\n",
       "2           Albania  40.427933   20.677600\n",
       "3  Aleutian Islands  52.259693 -160.112324\n",
       "4         Argentina -27.437281  -66.784112"
      ]
     },
     "execution_count": 57,
     "metadata": {},
     "output_type": "execute_result"
    }
   ],
   "source": [
    "df_coords.head()"
   ]
  },
  {
   "cell_type": "markdown",
   "metadata": {},
   "source": [
    "#### Merge the two dataframes of mean latitude and longitude locations calculated above with dataframe only considering ['date' , 'depth', 'mag', 'place'] as columns out of total features"
   ]
  },
  {
   "cell_type": "code",
   "execution_count": 58,
   "metadata": {},
   "outputs": [
    {
     "name": "stdout",
     "output_type": "stream",
     "text": [
      "total locations: 94\n"
     ]
    }
   ],
   "source": [
    "df = df[['date', 'depth', 'mag', 'place']]\n",
    "df = pd.merge(left=df, right=df_coords, how='inner', on=['place'])\n",
    "df.head()\n",
    "\n",
    "print('total locations:',len(set(df['place'])))"
   ]
  },
  {
   "cell_type": "code",
   "execution_count": 59,
   "metadata": {},
   "outputs": [
    {
     "name": "stdout",
     "output_type": "stream",
     "text": [
      "{'Nepal', 'U.S. Virgin Islands', 'Indonesia', 'Dominican Republic', 'Oregon', 'Timor Leste', 'Austria', 'Texas', 'Argentina', 'Russia', 'Samoa', 'New York', 'Pakistan', 'Mongolia', 'Peru', 'Taiwan', 'Laikit II (Dimembe)', 'B.C.', 'Libya', 'Ecuador', 'Utah', 'India', 'Guatemala', 'Greenland', 'Oklahoma', 'Cyprus', 'Tonga', 'Wyoming', 'France', 'New Zealand', 'Puerto Rico', 'Albania', 'Italy', 'Mexico', 'Chile', 'El Salvador', 'California', 'Tanzania', 'Micronesia', 'Quebec', 'Colombia', 'Solomon Islands', 'North Carolina', 'Myanmar', 'Arkansas', 'Venezuela', 'CA', 'Wallis and Futuna', 'Nevada', 'Panama', 'Brazil', 'Uganda', 'Iraq', 'Northern Mariana Islands', 'Tajikistan', 'Idaho', 'Canada', 'Romania', 'Kyrgyzstan', 'Canada region', 'Australia', 'Federated States of Micronesia', 'New Mexico', 'Fiji', 'Japan region', 'Tunisia', 'Aleutian Islands', 'Montana', 'Missouri', 'South Carolina', 'Tennessee', 'Hawaii', 'Nicaragua', 'Vanuatu', 'Turkey', 'Japan', 'Illinois', 'Saint Vincent and the Grenadines', 'Philippines', 'India region', 'Bolivia', 'Maine', 'Papua New Guinea', 'Afghanistan', 'New Caledonia', 'Washington', 'Greece', 'Alaska', 'Kansas', 'Guam', 'Iran', 'China', 'Colorado', 'Costa Rica'}\n"
     ]
    }
   ],
   "source": [
    "print(set(df['place']))"
   ]
  },
  {
   "cell_type": "code",
   "execution_count": 60,
   "metadata": {},
   "outputs": [
    {
     "data": {
      "text/html": [
       "<div>\n",
       "<style scoped>\n",
       "    .dataframe tbody tr th:only-of-type {\n",
       "        vertical-align: middle;\n",
       "    }\n",
       "\n",
       "    .dataframe tbody tr th {\n",
       "        vertical-align: top;\n",
       "    }\n",
       "\n",
       "    .dataframe thead th {\n",
       "        text-align: right;\n",
       "    }\n",
       "</style>\n",
       "<table border=\"1\" class=\"dataframe\">\n",
       "  <thead>\n",
       "    <tr style=\"text-align: right;\">\n",
       "      <th></th>\n",
       "      <th>date</th>\n",
       "      <th>depth</th>\n",
       "      <th>mag</th>\n",
       "      <th>place</th>\n",
       "      <th>latitude</th>\n",
       "      <th>longitude</th>\n",
       "    </tr>\n",
       "  </thead>\n",
       "  <tbody>\n",
       "    <tr>\n",
       "      <th>0</th>\n",
       "      <td>2023-03-13</td>\n",
       "      <td>10.00</td>\n",
       "      <td>3.20</td>\n",
       "      <td>Alaska</td>\n",
       "      <td>57.907929</td>\n",
       "      <td>-158.039976</td>\n",
       "    </tr>\n",
       "    <tr>\n",
       "      <th>1</th>\n",
       "      <td>2023-03-13</td>\n",
       "      <td>10.00</td>\n",
       "      <td>3.20</td>\n",
       "      <td>Alaska</td>\n",
       "      <td>57.907929</td>\n",
       "      <td>-158.039976</td>\n",
       "    </tr>\n",
       "    <tr>\n",
       "      <th>2</th>\n",
       "      <td>2023-03-13</td>\n",
       "      <td>77.20</td>\n",
       "      <td>1.20</td>\n",
       "      <td>Alaska</td>\n",
       "      <td>57.907929</td>\n",
       "      <td>-158.039976</td>\n",
       "    </tr>\n",
       "    <tr>\n",
       "      <th>3</th>\n",
       "      <td>2023-03-13</td>\n",
       "      <td>4.28</td>\n",
       "      <td>1.85</td>\n",
       "      <td>Alaska</td>\n",
       "      <td>57.907929</td>\n",
       "      <td>-158.039976</td>\n",
       "    </tr>\n",
       "    <tr>\n",
       "      <th>4</th>\n",
       "      <td>2023-03-13</td>\n",
       "      <td>-1.80</td>\n",
       "      <td>1.02</td>\n",
       "      <td>Alaska</td>\n",
       "      <td>57.907929</td>\n",
       "      <td>-158.039976</td>\n",
       "    </tr>\n",
       "  </tbody>\n",
       "</table>\n",
       "</div>"
      ],
      "text/plain": [
       "         date  depth   mag   place   latitude   longitude\n",
       "0  2023-03-13  10.00  3.20  Alaska  57.907929 -158.039976\n",
       "1  2023-03-13  10.00  3.20  Alaska  57.907929 -158.039976\n",
       "2  2023-03-13  77.20  1.20  Alaska  57.907929 -158.039976\n",
       "3  2023-03-13   4.28  1.85  Alaska  57.907929 -158.039976\n",
       "4  2023-03-13  -1.80  1.02  Alaska  57.907929 -158.039976"
      ]
     },
     "execution_count": 60,
     "metadata": {},
     "output_type": "execute_result"
    }
   ],
   "source": [
    "df.head()"
   ]
  },
  {
   "cell_type": "markdown",
   "metadata": {},
   "source": [
    "#### Feature Engineering and Data wrangling\n",
    "\n",
    "* Set rolling window size for future prediction based on past values with fixed window size in past\n",
    "* I have created 6 new features based on rolling window size on average depth and average magnitude.\n",
    "* A final outcome 'mag_outcome' has been defined as target values and the output is considered as shifted values from set rolling window of past days eg: '7'. "
   ]
  },
  {
   "cell_type": "code",
   "execution_count": 61,
   "metadata": {},
   "outputs": [],
   "source": [
    "eq_tmp = df.copy()\n",
    "\n",
    "#rolling window size\n",
    "DAYS_OUT_TO_PREDICT = 7\n",
    "\n",
    "# loop through each zone and apply MA\n",
    "eq_data = []\n",
    "eq_data_last_days_out = []\n",
    "\n",
    "for place in list(set(eq_tmp['place'])):\n",
    "    temp_df = eq_tmp[eq_tmp['place'] == place].copy()\n",
    "    \n",
    "    #avg. depth of 22 days rolling period and so on..\n",
    "    temp_df['depth_avg_22'] = temp_df['depth'].rolling(window=22,center=False).mean() \n",
    "    temp_df['depth_avg_15'] = temp_df['depth'].rolling(window=15,center=False).mean()\n",
    "    temp_df['depth_avg_7'] = temp_df['depth'].rolling(window=7,center=False).mean()\n",
    "    temp_df['mag_avg_22'] = temp_df['mag'].rolling(window=22,center=False).mean() \n",
    "    temp_df['mag_avg_15'] = temp_df['mag'].rolling(window=15,center=False).mean()\n",
    "    temp_df['mag_avg_7'] = temp_df['mag'].rolling(window=7,center=False).mean()\n",
    "    temp_df.loc[:, 'mag_outcome'] = temp_df.loc[:, 'mag_avg_7'].shift(DAYS_OUT_TO_PREDICT * -1)\n",
    "    \n",
    "    #days to predict value on earth quake data this is not yet seen or witnessed by next 7 days (consider as live next 7 days period)\n",
    "    \n",
    "    eq_data_last_days_out.append(temp_df.tail(DAYS_OUT_TO_PREDICT))\n",
    "\n",
    "    eq_data.append(temp_df)"
   ]
  },
  {
   "cell_type": "code",
   "execution_count": 62,
   "metadata": {},
   "outputs": [],
   "source": [
    "# concat all location-based dataframes into master dataframe\n",
    "eq_all = pd.concat(eq_data)"
   ]
  },
  {
   "cell_type": "code",
   "execution_count": 63,
   "metadata": {},
   "outputs": [
    {
     "data": {
      "text/html": [
       "<div>\n",
       "<style scoped>\n",
       "    .dataframe tbody tr th:only-of-type {\n",
       "        vertical-align: middle;\n",
       "    }\n",
       "\n",
       "    .dataframe tbody tr th {\n",
       "        vertical-align: top;\n",
       "    }\n",
       "\n",
       "    .dataframe thead th {\n",
       "        text-align: right;\n",
       "    }\n",
       "</style>\n",
       "<table border=\"1\" class=\"dataframe\">\n",
       "  <thead>\n",
       "    <tr style=\"text-align: right;\">\n",
       "      <th></th>\n",
       "      <th>date</th>\n",
       "      <th>depth</th>\n",
       "      <th>mag</th>\n",
       "      <th>place</th>\n",
       "      <th>latitude</th>\n",
       "      <th>longitude</th>\n",
       "      <th>depth_avg_22</th>\n",
       "      <th>depth_avg_15</th>\n",
       "      <th>depth_avg_7</th>\n",
       "      <th>mag_avg_22</th>\n",
       "      <th>mag_avg_15</th>\n",
       "      <th>mag_avg_7</th>\n",
       "      <th>mag_outcome</th>\n",
       "    </tr>\n",
       "  </thead>\n",
       "  <tbody>\n",
       "    <tr>\n",
       "      <th>11412</th>\n",
       "      <td>2023-03-24</td>\n",
       "      <td>29.343</td>\n",
       "      <td>4.20</td>\n",
       "      <td>Nepal</td>\n",
       "      <td>28.666633</td>\n",
       "      <td>84.906800</td>\n",
       "      <td>NaN</td>\n",
       "      <td>NaN</td>\n",
       "      <td>NaN</td>\n",
       "      <td>NaN</td>\n",
       "      <td>NaN</td>\n",
       "      <td>NaN</td>\n",
       "      <td>NaN</td>\n",
       "    </tr>\n",
       "    <tr>\n",
       "      <th>11413</th>\n",
       "      <td>2023-04-01</td>\n",
       "      <td>10.000</td>\n",
       "      <td>4.50</td>\n",
       "      <td>Nepal</td>\n",
       "      <td>28.666633</td>\n",
       "      <td>84.906800</td>\n",
       "      <td>NaN</td>\n",
       "      <td>NaN</td>\n",
       "      <td>NaN</td>\n",
       "      <td>NaN</td>\n",
       "      <td>NaN</td>\n",
       "      <td>NaN</td>\n",
       "      <td>NaN</td>\n",
       "    </tr>\n",
       "    <tr>\n",
       "      <th>11414</th>\n",
       "      <td>2023-04-08</td>\n",
       "      <td>57.329</td>\n",
       "      <td>4.30</td>\n",
       "      <td>Nepal</td>\n",
       "      <td>28.666633</td>\n",
       "      <td>84.906800</td>\n",
       "      <td>NaN</td>\n",
       "      <td>NaN</td>\n",
       "      <td>NaN</td>\n",
       "      <td>NaN</td>\n",
       "      <td>NaN</td>\n",
       "      <td>NaN</td>\n",
       "      <td>NaN</td>\n",
       "    </tr>\n",
       "    <tr>\n",
       "      <th>11264</th>\n",
       "      <td>2023-03-15</td>\n",
       "      <td>30.000</td>\n",
       "      <td>3.53</td>\n",
       "      <td>U.S. Virgin Islands</td>\n",
       "      <td>18.927290</td>\n",
       "      <td>-64.756906</td>\n",
       "      <td>NaN</td>\n",
       "      <td>NaN</td>\n",
       "      <td>NaN</td>\n",
       "      <td>NaN</td>\n",
       "      <td>NaN</td>\n",
       "      <td>NaN</td>\n",
       "      <td>3.438571</td>\n",
       "    </tr>\n",
       "    <tr>\n",
       "      <th>11265</th>\n",
       "      <td>2023-03-16</td>\n",
       "      <td>16.000</td>\n",
       "      <td>3.84</td>\n",
       "      <td>U.S. Virgin Islands</td>\n",
       "      <td>18.927290</td>\n",
       "      <td>-64.756906</td>\n",
       "      <td>NaN</td>\n",
       "      <td>NaN</td>\n",
       "      <td>NaN</td>\n",
       "      <td>NaN</td>\n",
       "      <td>NaN</td>\n",
       "      <td>NaN</td>\n",
       "      <td>3.340000</td>\n",
       "    </tr>\n",
       "  </tbody>\n",
       "</table>\n",
       "</div>"
      ],
      "text/plain": [
       "             date   depth   mag                place   latitude  longitude  \\\n",
       "11412  2023-03-24  29.343  4.20                Nepal  28.666633  84.906800   \n",
       "11413  2023-04-01  10.000  4.50                Nepal  28.666633  84.906800   \n",
       "11414  2023-04-08  57.329  4.30                Nepal  28.666633  84.906800   \n",
       "11264  2023-03-15  30.000  3.53  U.S. Virgin Islands  18.927290 -64.756906   \n",
       "11265  2023-03-16  16.000  3.84  U.S. Virgin Islands  18.927290 -64.756906   \n",
       "\n",
       "       depth_avg_22  depth_avg_15  depth_avg_7  mag_avg_22  mag_avg_15  \\\n",
       "11412           NaN           NaN          NaN         NaN         NaN   \n",
       "11413           NaN           NaN          NaN         NaN         NaN   \n",
       "11414           NaN           NaN          NaN         NaN         NaN   \n",
       "11264           NaN           NaN          NaN         NaN         NaN   \n",
       "11265           NaN           NaN          NaN         NaN         NaN   \n",
       "\n",
       "       mag_avg_7  mag_outcome  \n",
       "11412        NaN          NaN  \n",
       "11413        NaN          NaN  \n",
       "11414        NaN          NaN  \n",
       "11264        NaN     3.438571  \n",
       "11265        NaN     3.340000  "
      ]
     },
     "execution_count": 63,
     "metadata": {},
     "output_type": "execute_result"
    }
   ],
   "source": [
    "eq_all.head()"
   ]
  },
  {
   "cell_type": "code",
   "execution_count": 64,
   "metadata": {},
   "outputs": [],
   "source": [
    "# remove any NaN fields\n",
    "eq_all = eq_all[np.isfinite(eq_all['depth_avg_22'])]\n",
    "eq_all = eq_all[np.isfinite(eq_all['mag_avg_22'])]\n",
    "eq_all = eq_all[np.isfinite(eq_all['mag_outcome'])]"
   ]
  },
  {
   "cell_type": "code",
   "execution_count": 65,
   "metadata": {},
   "outputs": [
    {
     "data": {
      "text/html": [
       "<div>\n",
       "<style scoped>\n",
       "    .dataframe tbody tr th:only-of-type {\n",
       "        vertical-align: middle;\n",
       "    }\n",
       "\n",
       "    .dataframe tbody tr th {\n",
       "        vertical-align: top;\n",
       "    }\n",
       "\n",
       "    .dataframe thead th {\n",
       "        text-align: right;\n",
       "    }\n",
       "</style>\n",
       "<table border=\"1\" class=\"dataframe\">\n",
       "  <thead>\n",
       "    <tr style=\"text-align: right;\">\n",
       "      <th></th>\n",
       "      <th>date</th>\n",
       "      <th>depth</th>\n",
       "      <th>mag</th>\n",
       "      <th>place</th>\n",
       "      <th>latitude</th>\n",
       "      <th>longitude</th>\n",
       "      <th>depth_avg_22</th>\n",
       "      <th>depth_avg_15</th>\n",
       "      <th>depth_avg_7</th>\n",
       "      <th>mag_avg_22</th>\n",
       "      <th>mag_avg_15</th>\n",
       "      <th>mag_avg_7</th>\n",
       "      <th>mag_outcome</th>\n",
       "    </tr>\n",
       "  </thead>\n",
       "  <tbody>\n",
       "    <tr>\n",
       "      <th>10617</th>\n",
       "      <td>2023-03-19</td>\n",
       "      <td>63.378</td>\n",
       "      <td>5.0</td>\n",
       "      <td>Indonesia</td>\n",
       "      <td>-2.499891</td>\n",
       "      <td>122.951879</td>\n",
       "      <td>57.042773</td>\n",
       "      <td>45.092867</td>\n",
       "      <td>50.307143</td>\n",
       "      <td>4.445455</td>\n",
       "      <td>4.500000</td>\n",
       "      <td>4.714286</td>\n",
       "      <td>4.671429</td>\n",
       "    </tr>\n",
       "    <tr>\n",
       "      <th>10618</th>\n",
       "      <td>2023-03-19</td>\n",
       "      <td>10.000</td>\n",
       "      <td>4.8</td>\n",
       "      <td>Indonesia</td>\n",
       "      <td>-2.499891</td>\n",
       "      <td>122.951879</td>\n",
       "      <td>50.359045</td>\n",
       "      <td>45.092867</td>\n",
       "      <td>25.824000</td>\n",
       "      <td>4.472727</td>\n",
       "      <td>4.553333</td>\n",
       "      <td>4.785714</td>\n",
       "      <td>4.657143</td>\n",
       "    </tr>\n",
       "    <tr>\n",
       "      <th>10619</th>\n",
       "      <td>2023-03-20</td>\n",
       "      <td>110.900</td>\n",
       "      <td>4.4</td>\n",
       "      <td>Indonesia</td>\n",
       "      <td>-2.499891</td>\n",
       "      <td>122.951879</td>\n",
       "      <td>52.621182</td>\n",
       "      <td>50.632467</td>\n",
       "      <td>34.568286</td>\n",
       "      <td>4.472727</td>\n",
       "      <td>4.553333</td>\n",
       "      <td>4.700000</td>\n",
       "      <td>4.685714</td>\n",
       "    </tr>\n",
       "    <tr>\n",
       "      <th>10620</th>\n",
       "      <td>2023-03-20</td>\n",
       "      <td>55.638</td>\n",
       "      <td>4.5</td>\n",
       "      <td>Indonesia</td>\n",
       "      <td>-2.499891</td>\n",
       "      <td>122.951879</td>\n",
       "      <td>53.559273</td>\n",
       "      <td>50.537467</td>\n",
       "      <td>41.062429</td>\n",
       "      <td>4.486364</td>\n",
       "      <td>4.586667</td>\n",
       "      <td>4.657143</td>\n",
       "      <td>4.700000</td>\n",
       "    </tr>\n",
       "    <tr>\n",
       "      <th>10621</th>\n",
       "      <td>2023-03-21</td>\n",
       "      <td>10.000</td>\n",
       "      <td>4.9</td>\n",
       "      <td>Indonesia</td>\n",
       "      <td>-2.499891</td>\n",
       "      <td>122.951879</td>\n",
       "      <td>53.559273</td>\n",
       "      <td>47.628133</td>\n",
       "      <td>40.999000</td>\n",
       "      <td>4.513636</td>\n",
       "      <td>4.620000</td>\n",
       "      <td>4.657143</td>\n",
       "      <td>4.628571</td>\n",
       "    </tr>\n",
       "  </tbody>\n",
       "</table>\n",
       "</div>"
      ],
      "text/plain": [
       "             date    depth  mag      place  latitude   longitude  \\\n",
       "10617  2023-03-19   63.378  5.0  Indonesia -2.499891  122.951879   \n",
       "10618  2023-03-19   10.000  4.8  Indonesia -2.499891  122.951879   \n",
       "10619  2023-03-20  110.900  4.4  Indonesia -2.499891  122.951879   \n",
       "10620  2023-03-20   55.638  4.5  Indonesia -2.499891  122.951879   \n",
       "10621  2023-03-21   10.000  4.9  Indonesia -2.499891  122.951879   \n",
       "\n",
       "       depth_avg_22  depth_avg_15  depth_avg_7  mag_avg_22  mag_avg_15  \\\n",
       "10617     57.042773     45.092867    50.307143    4.445455    4.500000   \n",
       "10618     50.359045     45.092867    25.824000    4.472727    4.553333   \n",
       "10619     52.621182     50.632467    34.568286    4.472727    4.553333   \n",
       "10620     53.559273     50.537467    41.062429    4.486364    4.586667   \n",
       "10621     53.559273     47.628133    40.999000    4.513636    4.620000   \n",
       "\n",
       "       mag_avg_7  mag_outcome  \n",
       "10617   4.714286     4.671429  \n",
       "10618   4.785714     4.657143  \n",
       "10619   4.700000     4.685714  \n",
       "10620   4.657143     4.700000  \n",
       "10621   4.657143     4.628571  "
      ]
     },
     "execution_count": 65,
     "metadata": {},
     "output_type": "execute_result"
    }
   ],
   "source": [
    "eq_all.head()"
   ]
  },
  {
   "cell_type": "markdown",
   "metadata": {},
   "source": [
    "#### location after feature engineering"
   ]
  },
  {
   "cell_type": "code",
   "execution_count": 66,
   "metadata": {},
   "outputs": [
    {
     "data": {
      "image/png": "[encoded data removed]",
      "text/plain": [
       "<Figure size 432x288 with 1 Axes>"
      ]
     },
     "metadata": {
      "needs_background": "light"
     },
     "output_type": "display_data"
    }
   ],
   "source": [
    "plt.plot(eq_all['longitude'], \n",
    "         eq_all['latitude'],\n",
    "         linestyle='none', marker='.')\n",
    "plt.suptitle('Historical Earthquakes with Aggregated Longitude And Latitude')\n",
    "plt.xlabel('Longitude')\n",
    "plt.ylabel('Latitude')\n",
    "plt.grid()\n",
    "plt.show()\n"
   ]
  },
  {
   "cell_type": "code",
   "execution_count": 67,
   "metadata": {},
   "outputs": [],
   "source": [
    "# keep our live data for predictions\n",
    "eq_data_last_days_out = pd.concat(eq_data_last_days_out)\n",
    "\n",
    "\n",
    "eq_data_last_days_out = eq_data_last_days_out[np.isfinite(eq_data_last_days_out['mag_avg_22'])]\n",
    "predict_unknown=eq_data_last_days_out"
   ]
  },
  {
   "cell_type": "code",
   "execution_count": 68,
   "metadata": {},
   "outputs": [
    {
     "data": {
      "text/html": [
       "<div>\n",
       "<style scoped>\n",
       "    .dataframe tbody tr th:only-of-type {\n",
       "        vertical-align: middle;\n",
       "    }\n",
       "\n",
       "    .dataframe tbody tr th {\n",
       "        vertical-align: top;\n",
       "    }\n",
       "\n",
       "    .dataframe thead th {\n",
       "        text-align: right;\n",
       "    }\n",
       "</style>\n",
       "<table border=\"1\" class=\"dataframe\">\n",
       "  <thead>\n",
       "    <tr style=\"text-align: right;\">\n",
       "      <th></th>\n",
       "      <th>date</th>\n",
       "      <th>depth</th>\n",
       "      <th>mag</th>\n",
       "      <th>place</th>\n",
       "      <th>latitude</th>\n",
       "      <th>longitude</th>\n",
       "      <th>depth_avg_22</th>\n",
       "      <th>depth_avg_15</th>\n",
       "      <th>depth_avg_7</th>\n",
       "      <th>mag_avg_22</th>\n",
       "      <th>mag_avg_15</th>\n",
       "      <th>mag_avg_7</th>\n",
       "      <th>mag_outcome</th>\n",
       "    </tr>\n",
       "  </thead>\n",
       "  <tbody>\n",
       "    <tr>\n",
       "      <th>10667</th>\n",
       "      <td>2023-04-08</td>\n",
       "      <td>104.830</td>\n",
       "      <td>4.8</td>\n",
       "      <td>Indonesia</td>\n",
       "      <td>-2.499891</td>\n",
       "      <td>122.951879</td>\n",
       "      <td>63.889273</td>\n",
       "      <td>74.028733</td>\n",
       "      <td>87.098714</td>\n",
       "      <td>4.563636</td>\n",
       "      <td>4.606667</td>\n",
       "      <td>4.571429</td>\n",
       "      <td>NaN</td>\n",
       "    </tr>\n",
       "    <tr>\n",
       "      <th>10668</th>\n",
       "      <td>2023-04-08</td>\n",
       "      <td>158.980</td>\n",
       "      <td>4.4</td>\n",
       "      <td>Indonesia</td>\n",
       "      <td>-2.499891</td>\n",
       "      <td>122.951879</td>\n",
       "      <td>67.893455</td>\n",
       "      <td>83.939467</td>\n",
       "      <td>90.935857</td>\n",
       "      <td>4.563636</td>\n",
       "      <td>4.606667</td>\n",
       "      <td>4.600000</td>\n",
       "      <td>NaN</td>\n",
       "    </tr>\n",
       "    <tr>\n",
       "      <th>10669</th>\n",
       "      <td>2023-04-09</td>\n",
       "      <td>64.708</td>\n",
       "      <td>4.6</td>\n",
       "      <td>Indonesia</td>\n",
       "      <td>-2.499891</td>\n",
       "      <td>122.951879</td>\n",
       "      <td>69.811773</td>\n",
       "      <td>85.865200</td>\n",
       "      <td>98.751286</td>\n",
       "      <td>4.550000</td>\n",
       "      <td>4.640000</td>\n",
       "      <td>4.514286</td>\n",
       "      <td>NaN</td>\n",
       "    </tr>\n",
       "    <tr>\n",
       "      <th>10670</th>\n",
       "      <td>2023-04-10</td>\n",
       "      <td>54.828</td>\n",
       "      <td>5.1</td>\n",
       "      <td>Indonesia</td>\n",
       "      <td>-2.499891</td>\n",
       "      <td>122.951879</td>\n",
       "      <td>71.199273</td>\n",
       "      <td>88.853733</td>\n",
       "      <td>94.491571</td>\n",
       "      <td>4.586364</td>\n",
       "      <td>4.680000</td>\n",
       "      <td>4.585714</td>\n",
       "      <td>NaN</td>\n",
       "    </tr>\n",
       "    <tr>\n",
       "      <th>10671</th>\n",
       "      <td>2023-04-10</td>\n",
       "      <td>67.183</td>\n",
       "      <td>5.1</td>\n",
       "      <td>Indonesia</td>\n",
       "      <td>-2.499891</td>\n",
       "      <td>122.951879</td>\n",
       "      <td>72.607045</td>\n",
       "      <td>91.063467</td>\n",
       "      <td>73.239857</td>\n",
       "      <td>4.627273</td>\n",
       "      <td>4.726667</td>\n",
       "      <td>4.700000</td>\n",
       "      <td>NaN</td>\n",
       "    </tr>\n",
       "    <tr>\n",
       "      <th>...</th>\n",
       "      <td>...</td>\n",
       "      <td>...</td>\n",
       "      <td>...</td>\n",
       "      <td>...</td>\n",
       "      <td>...</td>\n",
       "      <td>...</td>\n",
       "      <td>...</td>\n",
       "      <td>...</td>\n",
       "      <td>...</td>\n",
       "      <td>...</td>\n",
       "      <td>...</td>\n",
       "      <td>...</td>\n",
       "      <td>...</td>\n",
       "    </tr>\n",
       "    <tr>\n",
       "      <th>4949</th>\n",
       "      <td>2023-04-12</td>\n",
       "      <td>29.700</td>\n",
       "      <td>3.2</td>\n",
       "      <td>Alaska</td>\n",
       "      <td>57.907929</td>\n",
       "      <td>-158.039976</td>\n",
       "      <td>39.209091</td>\n",
       "      <td>47.020000</td>\n",
       "      <td>67.485714</td>\n",
       "      <td>1.700000</td>\n",
       "      <td>1.813333</td>\n",
       "      <td>1.885714</td>\n",
       "      <td>NaN</td>\n",
       "    </tr>\n",
       "    <tr>\n",
       "      <th>4950</th>\n",
       "      <td>2023-04-12</td>\n",
       "      <td>12.100</td>\n",
       "      <td>1.2</td>\n",
       "      <td>Alaska</td>\n",
       "      <td>57.907929</td>\n",
       "      <td>-158.039976</td>\n",
       "      <td>39.709091</td>\n",
       "      <td>47.240000</td>\n",
       "      <td>55.071429</td>\n",
       "      <td>1.677273</td>\n",
       "      <td>1.726667</td>\n",
       "      <td>1.814286</td>\n",
       "      <td>NaN</td>\n",
       "    </tr>\n",
       "    <tr>\n",
       "      <th>4951</th>\n",
       "      <td>2023-04-12</td>\n",
       "      <td>33.800</td>\n",
       "      <td>1.5</td>\n",
       "      <td>Alaska</td>\n",
       "      <td>57.907929</td>\n",
       "      <td>-158.039976</td>\n",
       "      <td>41.245455</td>\n",
       "      <td>49.493333</td>\n",
       "      <td>33.014286</td>\n",
       "      <td>1.668182</td>\n",
       "      <td>1.706667</td>\n",
       "      <td>1.757143</td>\n",
       "      <td>NaN</td>\n",
       "    </tr>\n",
       "    <tr>\n",
       "      <th>4952</th>\n",
       "      <td>2023-04-12</td>\n",
       "      <td>97.000</td>\n",
       "      <td>2.0</td>\n",
       "      <td>Alaska</td>\n",
       "      <td>57.907929</td>\n",
       "      <td>-158.039976</td>\n",
       "      <td>45.640909</td>\n",
       "      <td>54.853333</td>\n",
       "      <td>35.700000</td>\n",
       "      <td>1.700000</td>\n",
       "      <td>1.766667</td>\n",
       "      <td>1.800000</td>\n",
       "      <td>NaN</td>\n",
       "    </tr>\n",
       "    <tr>\n",
       "      <th>4953</th>\n",
       "      <td>2023-04-12</td>\n",
       "      <td>23.700</td>\n",
       "      <td>1.2</td>\n",
       "      <td>Alaska</td>\n",
       "      <td>57.907929</td>\n",
       "      <td>-158.039976</td>\n",
       "      <td>46.281818</td>\n",
       "      <td>52.020000</td>\n",
       "      <td>31.485714</td>\n",
       "      <td>1.672727</td>\n",
       "      <td>1.753333</td>\n",
       "      <td>1.800000</td>\n",
       "      <td>NaN</td>\n",
       "    </tr>\n",
       "  </tbody>\n",
       "</table>\n",
       "<p>167 rows × 13 columns</p>\n",
       "</div>"
      ],
      "text/plain": [
       "             date    depth  mag      place   latitude   longitude  \\\n",
       "10667  2023-04-08  104.830  4.8  Indonesia  -2.499891  122.951879   \n",
       "10668  2023-04-08  158.980  4.4  Indonesia  -2.499891  122.951879   \n",
       "10669  2023-04-09   64.708  4.6  Indonesia  -2.499891  122.951879   \n",
       "10670  2023-04-10   54.828  5.1  Indonesia  -2.499891  122.951879   \n",
       "10671  2023-04-10   67.183  5.1  Indonesia  -2.499891  122.951879   \n",
       "...           ...      ...  ...        ...        ...         ...   \n",
       "4949   2023-04-12   29.700  3.2     Alaska  57.907929 -158.039976   \n",
       "4950   2023-04-12   12.100  1.2     Alaska  57.907929 -158.039976   \n",
       "4951   2023-04-12   33.800  1.5     Alaska  57.907929 -158.039976   \n",
       "4952   2023-04-12   97.000  2.0     Alaska  57.907929 -158.039976   \n",
       "4953   2023-04-12   23.700  1.2     Alaska  57.907929 -158.039976   \n",
       "\n",
       "       depth_avg_22  depth_avg_15  depth_avg_7  mag_avg_22  mag_avg_15  \\\n",
       "10667     63.889273     74.028733    87.098714    4.563636    4.606667   \n",
       "10668     67.893455     83.939467    90.935857    4.563636    4.606667   \n",
       "10669     69.811773     85.865200    98.751286    4.550000    4.640000   \n",
       "10670     71.199273     88.853733    94.491571    4.586364    4.680000   \n",
       "10671     72.607045     91.063467    73.239857    4.627273    4.726667   \n",
       "...             ...           ...          ...         ...         ...   \n",
       "4949      39.209091     47.020000    67.485714    1.700000    1.813333   \n",
       "4950      39.709091     47.240000    55.071429    1.677273    1.726667   \n",
       "4951      41.245455     49.493333    33.014286    1.668182    1.706667   \n",
       "4952      45.640909     54.853333    35.700000    1.700000    1.766667   \n",
       "4953      46.281818     52.020000    31.485714    1.672727    1.753333   \n",
       "\n",
       "       mag_avg_7  mag_outcome  \n",
       "10667   4.571429          NaN  \n",
       "10668   4.600000          NaN  \n",
       "10669   4.514286          NaN  \n",
       "10670   4.585714          NaN  \n",
       "10671   4.700000          NaN  \n",
       "...          ...          ...  \n",
       "4949    1.885714          NaN  \n",
       "4950    1.814286          NaN  \n",
       "4951    1.757143          NaN  \n",
       "4952    1.800000          NaN  \n",
       "4953    1.800000          NaN  \n",
       "\n",
       "[167 rows x 13 columns]"
      ]
     },
     "execution_count": 68,
     "metadata": {},
     "output_type": "execute_result"
    }
   ],
   "source": [
    "# here 'mag_outcome' has NaN because these are future outcome event to be predicted live or data that has not yet been witnessed\n",
    "predict_unknown"
   ]
  },
  {
   "cell_type": "markdown",
   "metadata": {},
   "source": [
    "##### considered magnitude above 2.5 as dangerous hence prediction outcome as '1' elso '0'."
   ]
  },
  {
   "cell_type": "code",
   "execution_count": 69,
   "metadata": {},
   "outputs": [
    {
     "name": "stdout",
     "output_type": "stream",
     "text": [
      "count    10379.000000\n",
      "mean         0.019848\n",
      "std          0.139484\n",
      "min          0.000000\n",
      "25%          0.000000\n",
      "50%          0.000000\n",
      "75%          0.000000\n",
      "max          1.000000\n",
      "Name: mag_outcome, dtype: float64\n"
     ]
    },
    {
     "data": {
      "text/plain": [
       "0    10173\n",
       "1      206\n",
       "Name: mag_outcome, dtype: int64"
      ]
     },
     "execution_count": 69,
     "metadata": {},
     "output_type": "execute_result"
    }
   ],
   "source": [
    "eq_all['mag_outcome'] = np.where(eq_all['mag_outcome'] > 2.5, 1,0)\n",
    "print(eq_all['mag_outcome'].describe())\n",
    "eq_all['mag_outcome'].value_counts()"
   ]
  },
  {
   "cell_type": "code",
   "execution_count": 70,
   "metadata": {},
   "outputs": [
    {
     "data": {
      "image/png": "[encoded data removed]",
      "text/plain": [
       "<Figure size 432x288 with 1 Axes>"
      ]
     },
     "metadata": {
      "needs_background": "light"
     },
     "output_type": "display_data"
    }
   ],
   "source": [
    "eq_all['mag_outcome'].value_counts().plot(kind='bar',)\n",
    "plt.xlabel('Earthquake_outcome')\n",
    "plt.ylabel('counts')\n",
    "plt.title('class distribution');"
   ]
  },
  {
   "cell_type": "code",
   "execution_count": null,
   "metadata": {},
   "outputs": [],
   "source": []
  },
  {
   "cell_type": "code",
   "execution_count": 71,
   "metadata": {},
   "outputs": [
    {
     "data": {
      "text/html": [
       "<div>\n",
       "<style scoped>\n",
       "    .dataframe tbody tr th:only-of-type {\n",
       "        vertical-align: middle;\n",
       "    }\n",
       "\n",
       "    .dataframe tbody tr th {\n",
       "        vertical-align: top;\n",
       "    }\n",
       "\n",
       "    .dataframe thead th {\n",
       "        text-align: right;\n",
       "    }\n",
       "</style>\n",
       "<table border=\"1\" class=\"dataframe\">\n",
       "  <thead>\n",
       "    <tr style=\"text-align: right;\">\n",
       "      <th></th>\n",
       "      <th>date</th>\n",
       "      <th>depth</th>\n",
       "      <th>mag</th>\n",
       "      <th>place</th>\n",
       "      <th>latitude</th>\n",
       "      <th>longitude</th>\n",
       "      <th>depth_avg_22</th>\n",
       "      <th>depth_avg_15</th>\n",
       "      <th>depth_avg_7</th>\n",
       "      <th>mag_avg_22</th>\n",
       "      <th>mag_avg_15</th>\n",
       "      <th>mag_avg_7</th>\n",
       "      <th>mag_outcome</th>\n",
       "    </tr>\n",
       "  </thead>\n",
       "  <tbody>\n",
       "    <tr>\n",
       "      <th>10617</th>\n",
       "      <td>2023-03-19</td>\n",
       "      <td>63.378</td>\n",
       "      <td>5.0</td>\n",
       "      <td>Indonesia</td>\n",
       "      <td>-2.499891</td>\n",
       "      <td>122.951879</td>\n",
       "      <td>57.042773</td>\n",
       "      <td>45.092867</td>\n",
       "      <td>50.307143</td>\n",
       "      <td>4.445455</td>\n",
       "      <td>4.500000</td>\n",
       "      <td>4.714286</td>\n",
       "      <td>1</td>\n",
       "    </tr>\n",
       "    <tr>\n",
       "      <th>10618</th>\n",
       "      <td>2023-03-19</td>\n",
       "      <td>10.000</td>\n",
       "      <td>4.8</td>\n",
       "      <td>Indonesia</td>\n",
       "      <td>-2.499891</td>\n",
       "      <td>122.951879</td>\n",
       "      <td>50.359045</td>\n",
       "      <td>45.092867</td>\n",
       "      <td>25.824000</td>\n",
       "      <td>4.472727</td>\n",
       "      <td>4.553333</td>\n",
       "      <td>4.785714</td>\n",
       "      <td>1</td>\n",
       "    </tr>\n",
       "    <tr>\n",
       "      <th>10619</th>\n",
       "      <td>2023-03-20</td>\n",
       "      <td>110.900</td>\n",
       "      <td>4.4</td>\n",
       "      <td>Indonesia</td>\n",
       "      <td>-2.499891</td>\n",
       "      <td>122.951879</td>\n",
       "      <td>52.621182</td>\n",
       "      <td>50.632467</td>\n",
       "      <td>34.568286</td>\n",
       "      <td>4.472727</td>\n",
       "      <td>4.553333</td>\n",
       "      <td>4.700000</td>\n",
       "      <td>1</td>\n",
       "    </tr>\n",
       "    <tr>\n",
       "      <th>10620</th>\n",
       "      <td>2023-03-20</td>\n",
       "      <td>55.638</td>\n",
       "      <td>4.5</td>\n",
       "      <td>Indonesia</td>\n",
       "      <td>-2.499891</td>\n",
       "      <td>122.951879</td>\n",
       "      <td>53.559273</td>\n",
       "      <td>50.537467</td>\n",
       "      <td>41.062429</td>\n",
       "      <td>4.486364</td>\n",
       "      <td>4.586667</td>\n",
       "      <td>4.657143</td>\n",
       "      <td>1</td>\n",
       "    </tr>\n",
       "    <tr>\n",
       "      <th>10621</th>\n",
       "      <td>2023-03-21</td>\n",
       "      <td>10.000</td>\n",
       "      <td>4.9</td>\n",
       "      <td>Indonesia</td>\n",
       "      <td>-2.499891</td>\n",
       "      <td>122.951879</td>\n",
       "      <td>53.559273</td>\n",
       "      <td>47.628133</td>\n",
       "      <td>40.999000</td>\n",
       "      <td>4.513636</td>\n",
       "      <td>4.620000</td>\n",
       "      <td>4.657143</td>\n",
       "      <td>1</td>\n",
       "    </tr>\n",
       "  </tbody>\n",
       "</table>\n",
       "</div>"
      ],
      "text/plain": [
       "             date    depth  mag      place  latitude   longitude  \\\n",
       "10617  2023-03-19   63.378  5.0  Indonesia -2.499891  122.951879   \n",
       "10618  2023-03-19   10.000  4.8  Indonesia -2.499891  122.951879   \n",
       "10619  2023-03-20  110.900  4.4  Indonesia -2.499891  122.951879   \n",
       "10620  2023-03-20   55.638  4.5  Indonesia -2.499891  122.951879   \n",
       "10621  2023-03-21   10.000  4.9  Indonesia -2.499891  122.951879   \n",
       "\n",
       "       depth_avg_22  depth_avg_15  depth_avg_7  mag_avg_22  mag_avg_15  \\\n",
       "10617     57.042773     45.092867    50.307143    4.445455    4.500000   \n",
       "10618     50.359045     45.092867    25.824000    4.472727    4.553333   \n",
       "10619     52.621182     50.632467    34.568286    4.472727    4.553333   \n",
       "10620     53.559273     50.537467    41.062429    4.486364    4.586667   \n",
       "10621     53.559273     47.628133    40.999000    4.513636    4.620000   \n",
       "\n",
       "       mag_avg_7  mag_outcome  \n",
       "10617   4.714286            1  \n",
       "10618   4.785714            1  \n",
       "10619   4.700000            1  \n",
       "10620   4.657143            1  \n",
       "10621   4.657143            1  "
      ]
     },
     "execution_count": 71,
     "metadata": {},
     "output_type": "execute_result"
    }
   ],
   "source": [
    "eq_all.head()"
   ]
  },
  {
   "cell_type": "code",
   "execution_count": 73,
   "metadata": {},
   "outputs": [
    {
     "data": {
      "text/html": [
       "<div>\n",
       "<style scoped>\n",
       "    .dataframe tbody tr th:only-of-type {\n",
       "        vertical-align: middle;\n",
       "    }\n",
       "\n",
       "    .dataframe tbody tr th {\n",
       "        vertical-align: top;\n",
       "    }\n",
       "\n",
       "    .dataframe thead th {\n",
       "        text-align: right;\n",
       "    }\n",
       "</style>\n",
       "<table border=\"1\" class=\"dataframe\">\n",
       "  <thead>\n",
       "    <tr style=\"text-align: right;\">\n",
       "      <th></th>\n",
       "      <th>date</th>\n",
       "      <th>depth</th>\n",
       "      <th>mag</th>\n",
       "      <th>place</th>\n",
       "      <th>latitude</th>\n",
       "      <th>longitude</th>\n",
       "      <th>depth_avg_22</th>\n",
       "      <th>depth_avg_15</th>\n",
       "      <th>depth_avg_7</th>\n",
       "      <th>mag_avg_22</th>\n",
       "      <th>mag_avg_15</th>\n",
       "      <th>mag_avg_7</th>\n",
       "      <th>mag_outcome</th>\n",
       "    </tr>\n",
       "  </thead>\n",
       "  <tbody>\n",
       "    <tr>\n",
       "      <th>10667</th>\n",
       "      <td>2023-04-08</td>\n",
       "      <td>104.830</td>\n",
       "      <td>4.8</td>\n",
       "      <td>Indonesia</td>\n",
       "      <td>-2.499891</td>\n",
       "      <td>122.951879</td>\n",
       "      <td>63.889273</td>\n",
       "      <td>74.028733</td>\n",
       "      <td>87.098714</td>\n",
       "      <td>4.563636</td>\n",
       "      <td>4.606667</td>\n",
       "      <td>4.571429</td>\n",
       "      <td>NaN</td>\n",
       "    </tr>\n",
       "    <tr>\n",
       "      <th>10668</th>\n",
       "      <td>2023-04-08</td>\n",
       "      <td>158.980</td>\n",
       "      <td>4.4</td>\n",
       "      <td>Indonesia</td>\n",
       "      <td>-2.499891</td>\n",
       "      <td>122.951879</td>\n",
       "      <td>67.893455</td>\n",
       "      <td>83.939467</td>\n",
       "      <td>90.935857</td>\n",
       "      <td>4.563636</td>\n",
       "      <td>4.606667</td>\n",
       "      <td>4.600000</td>\n",
       "      <td>NaN</td>\n",
       "    </tr>\n",
       "    <tr>\n",
       "      <th>10669</th>\n",
       "      <td>2023-04-09</td>\n",
       "      <td>64.708</td>\n",
       "      <td>4.6</td>\n",
       "      <td>Indonesia</td>\n",
       "      <td>-2.499891</td>\n",
       "      <td>122.951879</td>\n",
       "      <td>69.811773</td>\n",
       "      <td>85.865200</td>\n",
       "      <td>98.751286</td>\n",
       "      <td>4.550000</td>\n",
       "      <td>4.640000</td>\n",
       "      <td>4.514286</td>\n",
       "      <td>NaN</td>\n",
       "    </tr>\n",
       "    <tr>\n",
       "      <th>10670</th>\n",
       "      <td>2023-04-10</td>\n",
       "      <td>54.828</td>\n",
       "      <td>5.1</td>\n",
       "      <td>Indonesia</td>\n",
       "      <td>-2.499891</td>\n",
       "      <td>122.951879</td>\n",
       "      <td>71.199273</td>\n",
       "      <td>88.853733</td>\n",
       "      <td>94.491571</td>\n",
       "      <td>4.586364</td>\n",
       "      <td>4.680000</td>\n",
       "      <td>4.585714</td>\n",
       "      <td>NaN</td>\n",
       "    </tr>\n",
       "    <tr>\n",
       "      <th>10671</th>\n",
       "      <td>2023-04-10</td>\n",
       "      <td>67.183</td>\n",
       "      <td>5.1</td>\n",
       "      <td>Indonesia</td>\n",
       "      <td>-2.499891</td>\n",
       "      <td>122.951879</td>\n",
       "      <td>72.607045</td>\n",
       "      <td>91.063467</td>\n",
       "      <td>73.239857</td>\n",
       "      <td>4.627273</td>\n",
       "      <td>4.726667</td>\n",
       "      <td>4.700000</td>\n",
       "      <td>NaN</td>\n",
       "    </tr>\n",
       "  </tbody>\n",
       "</table>\n",
       "</div>"
      ],
      "text/plain": [
       "             date    depth  mag      place  latitude   longitude  \\\n",
       "10667  2023-04-08  104.830  4.8  Indonesia -2.499891  122.951879   \n",
       "10668  2023-04-08  158.980  4.4  Indonesia -2.499891  122.951879   \n",
       "10669  2023-04-09   64.708  4.6  Indonesia -2.499891  122.951879   \n",
       "10670  2023-04-10   54.828  5.1  Indonesia -2.499891  122.951879   \n",
       "10671  2023-04-10   67.183  5.1  Indonesia -2.499891  122.951879   \n",
       "\n",
       "       depth_avg_22  depth_avg_15  depth_avg_7  mag_avg_22  mag_avg_15  \\\n",
       "10667     63.889273     74.028733    87.098714    4.563636    4.606667   \n",
       "10668     67.893455     83.939467    90.935857    4.563636    4.606667   \n",
       "10669     69.811773     85.865200    98.751286    4.550000    4.640000   \n",
       "10670     71.199273     88.853733    94.491571    4.586364    4.680000   \n",
       "10671     72.607045     91.063467    73.239857    4.627273    4.726667   \n",
       "\n",
       "       mag_avg_7  mag_outcome  \n",
       "10667   4.571429          NaN  \n",
       "10668   4.600000          NaN  \n",
       "10669   4.514286          NaN  \n",
       "10670   4.585714          NaN  \n",
       "10671   4.700000          NaN  "
      ]
     },
     "execution_count": 73,
     "metadata": {},
     "output_type": "execute_result"
    }
   ],
   "source": [
    "predict_unknown.head()"
   ]
  },
  {
   "cell_type": "markdown",
   "metadata": {},
   "source": [
    "#### Training is done by considering 22, 15, 7 days window past features rolling average and outcome data is shifted to next 7 days as prediction."
   ]
  },
  {
   "cell_type": "code",
   "execution_count": 82,
   "metadata": {},
   "outputs": [],
   "source": [
    "# Selection of features that are needed for prediction and hence consider only them rest are just ignored for prediction purpose.\n",
    "\n",
    "features = [f for f in list(eq_all) if f not in ['date', 'lon_box_mean',\n",
    " 'lat_box_mean', 'mag_outcome', 'mag', 'place',\n",
    " 'combo_box_mean',  'latitude',\n",
    " 'longitude']]\n",
    "\n",
    "# splitting traing and testing dataset with trainging size = 70% and test = 30%\n",
    "X_train, X_test, y_train, y_test = train_test_split(eq_all[features],\n",
    "                     eq_all['mag_outcome'], test_size=0.3, random_state=42)\n",
    "  "
   ]
  },
  {
   "cell_type": "code",
   "execution_count": 83,
   "metadata": {},
   "outputs": [
    {
     "data": {
      "text/plain": [
       "['depth',\n",
       " 'depth_avg_22',\n",
       " 'depth_avg_15',\n",
       " 'depth_avg_7',\n",
       " 'mag_avg_22',\n",
       " 'mag_avg_15',\n",
       " 'mag_avg_7']"
      ]
     },
     "execution_count": 83,
     "metadata": {},
     "output_type": "execute_result"
    }
   ],
   "source": [
    "features"
   ]
  },
  {
   "cell_type": "markdown",
   "metadata": {},
   "source": [
    "#### Training phase\n",
    "\n",
    "* Models used are : \n",
    "    * Adaboost classifier with DecisionTree \n",
    "    * Adaboost classifier with RandomForest\n",
    "    * GridSearch CV as hyper parameter tunning\n",
    "    \n",
    "\n",
    "* Model used for Deployment of application :\n",
    "    * Xgboost with parameters set from above models"
   ]
  },
  {
   "cell_type": "markdown",
   "metadata": {},
   "source": [
    "#### Adaboost Decision Tree Classifier"
   ]
  },
  {
   "cell_type": "code",
   "execution_count": 84,
   "metadata": {},
   "outputs": [],
   "source": [
    "from sklearn.ensemble import RandomForestClassifier\n",
    "from sklearn.ensemble import AdaBoostClassifier\n",
    "from sklearn.tree import DecisionTreeClassifier\n",
    "from sklearn.model_selection import GridSearchCV\n",
    "\n",
    "param_grid = {\n",
    "              \"base_estimator__max_depth\" :   [2,5,7],\n",
    "              \"n_estimators\": [200, 400, 600]\n",
    "             }\n",
    "\n",
    "# base estimator\n",
    "tree = DecisionTreeClassifier()\n",
    "\n",
    "# adaboost with the tree as base estimator\n",
    "# learning rate is arbitrarily set to 0.6,\n",
    "ABC = AdaBoostClassifier(\n",
    "    base_estimator=tree,\n",
    "    learning_rate=0.6,\n",
    "    algorithm=\"SAMME\")"
   ]
  },
  {
   "cell_type": "markdown",
   "metadata": {},
   "source": [
    "#### Parameter tunning with GridSearch CV"
   ]
  },
  {
   "cell_type": "code",
   "execution_count": 87,
   "metadata": {},
   "outputs": [],
   "source": [
    "# run grid search\n",
    "grid_search_ABC = GridSearchCV(ABC,\n",
    "                               param_grid=param_grid, \n",
    "                               scoring = 'roc_auc', \n",
    "                               return_train_score=True,                         \n",
    "                               verbose = 1)"
   ]
  },
  {
   "cell_type": "code",
   "execution_count": 88,
   "metadata": {},
   "outputs": [
    {
     "name": "stdout",
     "output_type": "stream",
     "text": [
      "Fitting 5 folds for each of 9 candidates, totalling 45 fits\n"
     ]
    },
    {
     "data": {
      "text/plain": [
       "GridSearchCV(estimator=AdaBoostClassifier(algorithm='SAMME',\n",
       "                                          base_estimator=DecisionTreeClassifier(),\n",
       "                                          learning_rate=0.6),\n",
       "             param_grid={'base_estimator__max_depth': [2, 5, 7],\n",
       "                         'n_estimators': [200, 400, 600]},\n",
       "             return_train_score=True, scoring='roc_auc', verbose=1)"
      ]
     },
     "execution_count": 88,
     "metadata": {},
     "output_type": "execute_result"
    }
   ],
   "source": [
    "grid_search_ABC.fit(X_train,y_train)"
   ]
  },
  {
   "cell_type": "code",
   "execution_count": 89,
   "metadata": {},
   "outputs": [],
   "source": [
    "pred_ABC=grid_search_ABC.predict(X_test)"
   ]
  },
  {
   "cell_type": "markdown",
   "metadata": {},
   "source": [
    "### Evaluation Area Under curve & ROC \n",
    "\n",
    "I have chose ROC_AUC score as evaluation metric since I have to binary classifify wether earthquake happened or not with given features that has been train on past few days window rolling average window.\n",
    "\n",
    " * With **adaboost decision tree classifier** and hyper parameter tunning, we get area under curve (score) = 0.8867\n",
    " * higher the auc score, better is the model since it is better at distinguishing postive and negative classes.\n",
    " * Make a note here that we get from **confusion matrix**, `False negative = 42`and `Recall score =0.7789`. We need this value apart from auc score that we will analyze later when we have tested with diffferent models below"
   ]
  },
  {
   "cell_type": "code",
   "execution_count": 90,
   "metadata": {},
   "outputs": [
    {
     "name": "stdout",
     "output_type": "stream",
     "text": [
      "0.8468487745109081\n",
      "AUC: 0.8468\n"
     ]
    },
    {
     "data": {
      "image/png": "[encoded data removed]",
      "text/plain": [
       "<Figure size 432x288 with 1 Axes>"
      ]
     },
     "metadata": {
      "needs_background": "light"
     },
     "output_type": "display_data"
    },
    {
     "name": "stdout",
     "output_type": "stream",
     "text": [
      "Confusion Matrix: \n",
      " [[3026   15]\n",
      " [  22   51]]\n",
      "\n",
      "Recall 'TP/TP+FN' =  0.6986301369863014\n"
     ]
    }
   ],
   "source": [
    "from sklearn.metrics import roc_curve\n",
    "from sklearn.metrics import auc\n",
    "from sklearn.metrics import roc_auc_score\n",
    "from sklearn.metrics import recall_score\n",
    "from sklearn.metrics import confusion_matrix\n",
    "\n",
    "print(roc_auc_score(y_test, pred_ABC))\n",
    "\n",
    "fpr, tpr, _ = roc_curve(y_test, pred_ABC)\n",
    "roc_auc = auc(fpr, tpr)\n",
    "print('AUC:', np.round(roc_auc,4))\n",
    "\n",
    "plt.title('Receiver Operating Characteristic')\n",
    "plt.plot(fpr, tpr, 'b', label = 'AUC = %0.2f' % roc_auc)\n",
    "plt.legend(loc = 'lower right')\n",
    "plt.plot([0, 1], [0, 1],'r--')\n",
    "plt.xlim([0, 1])\n",
    "plt.ylim([0, 1])\n",
    "plt.ylabel('True Positive Rate')\n",
    "plt.xlabel('False Positive Rate')\n",
    "plt.show()\n",
    "\n",
    "\n",
    "print(\"Confusion Matrix: \\n\",confusion_matrix(y_test,pred_ABC))\n",
    "print(\"\\nRecall 'TP/TP+FN' = \", recall_score(y_test,pred_ABC))"
   ]
  },
  {
   "cell_type": "markdown",
   "metadata": {},
   "source": [
    "#### Adaboost Random Forest Classifier"
   ]
  },
  {
   "cell_type": "code",
   "execution_count": 92,
   "metadata": {},
   "outputs": [
    {
     "data": {
      "text/plain": [
       "GridSearchCV(cv=5,\n",
       "             estimator=RandomForestClassifier(max_features='sqrt',\n",
       "                                              n_estimators=50, n_jobs=-1,\n",
       "                                              oob_score=True),\n",
       "             param_grid={'max_features': ['auto', 'sqrt', 'log2'],\n",
       "                         'n_estimators': [200, 700]})"
      ]
     },
     "execution_count": 92,
     "metadata": {},
     "output_type": "execute_result"
    }
   ],
   "source": [
    "from sklearn.datasets import make_classification\n",
    "from sklearn.ensemble import RandomForestClassifier\n",
    "\n",
    "\n",
    "rfc = RandomForestClassifier(n_jobs=-1,max_features= 'sqrt' ,n_estimators=50, oob_score = True) \n",
    "\n",
    "param_grid = { \n",
    "    'n_estimators': [200, 700],\n",
    "    'max_features': ['auto', 'sqrt', 'log2']\n",
    "}\n",
    "# GridSearch of parameter tunning.\n",
    "CV_rfc = GridSearchCV(estimator=rfc, param_grid=param_grid, cv= 5)\n",
    "CV_rfc.fit(X_train, y_train)"
   ]
  },
  {
   "cell_type": "code",
   "execution_count": 93,
   "metadata": {},
   "outputs": [],
   "source": [
    "pred=CV_rfc.predict(X_test)"
   ]
  },
  {
   "cell_type": "markdown",
   "metadata": {},
   "source": [
    "### Evaluation Area Under curve & ROC \n",
    "\n",
    "* Below is the auc score for **adaboost RandomForest classifier** with 0.916 which is slightly lower than Decision tree classifier\n",
    "* Moreover when we look at **confusion matrix**, `False Negative=38` and `Recall score = 0.8' can be observed which is slightly higher than recall score of decision tree. Thus performs better than decision tree adabooost "
   ]
  },
  {
   "cell_type": "code",
   "execution_count": 94,
   "metadata": {},
   "outputs": [
    {
     "name": "stdout",
     "output_type": "stream",
     "text": [
      "0.8478352921038051\n",
      "AUC: 0.8478\n"
     ]
    },
    {
     "data": {
      "image/png": "[encoded data removed]",
      "text/plain": [
       "<Figure size 432x288 with 1 Axes>"
      ]
     },
     "metadata": {
      "needs_background": "light"
     },
     "output_type": "display_data"
    },
    {
     "name": "stdout",
     "output_type": "stream",
     "text": [
      "Confusion Matrix: \n",
      " [[3032    9]\n",
      " [  22   51]]\n",
      "\n",
      "Recall 'TP/TP+FN' =  0.6986301369863014\n"
     ]
    }
   ],
   "source": [
    "\n",
    "print(roc_auc_score(y_test, pred))\n",
    "\n",
    "fpr, tpr, _ = roc_curve(y_test, pred)\n",
    "roc_auc = auc(fpr, tpr)\n",
    "print('AUC:', np.round(roc_auc,4))\n",
    "\n",
    "plt.title('Receiver Operating Characteristic')\n",
    "plt.plot(fpr, tpr, 'b', label = 'AUC = %0.2f' % roc_auc)\n",
    "plt.legend(loc = 'lower right')\n",
    "plt.plot([0, 1], [0, 1],'r--')\n",
    "plt.xlim([0, 1])\n",
    "plt.ylim([0, 1])\n",
    "plt.ylabel('True Positive Rate')\n",
    "plt.xlabel('False Positive Rate')\n",
    "plt.show()\n",
    "\n",
    "\n",
    "print(\"Confusion Matrix: \\n\",confusion_matrix(y_test,pred))\n",
    "print(\"\\nRecall 'TP/TP+FN' = \", recall_score(y_test,pred))"
   ]
  },
  {
   "cell_type": "markdown",
   "metadata": {},
   "source": [
    "#### XGBoost \n",
    "* I have also tested with xgboost model below with similar parameters as I got above, since grid search CV was taking lot of time for xgboost.\n",
    " * As we can see this significantly gives higher AUC score of almost 0.0.98 and also `False negative = 37` which is similar Random Forest adaboost but xgboost has higher True positive and less False Positve compared to Random forest adaboost. i.e `Recall score = 0.805` which is similar adaboost Random Forrest tree. But XGboost is really good at classifying positive and negative classes and also better `aur_roc_score = 0.98193`. "
   ]
  },
  {
   "cell_type": "code",
   "execution_count": 95,
   "metadata": {},
   "outputs": [
    {
     "name": "stdout",
     "output_type": "stream",
     "text": [
      "[21:20:54] WARNING: C:/buildkite-agent/builds/buildkite-windows-cpu-autoscaling-group-i-030221e36e1a46bfb-1/xgboost/xgboost-ci-windows/src/learner.cc:767: \n",
      "Parameters: { \"silent\" } are not used.\n",
      "\n",
      "0.979458811764335\n",
      "AUC: 0.9795\n"
     ]
    },
    {
     "name": "stderr",
     "output_type": "stream",
     "text": [
      "E:\\Anaconda\\lib\\site-packages\\xgboost\\core.py:122: UserWarning: ntree_limit is deprecated, use `iteration_range` or model slicing instead.\n",
      "  warnings.warn(\n"
     ]
    },
    {
     "data": {
      "image/png": "[encoded data removed]",
      "text/plain": [
       "<Figure size 432x288 with 1 Axes>"
      ]
     },
     "metadata": {
      "needs_background": "light"
     },
     "output_type": "display_data"
    },
    {
     "name": "stdout",
     "output_type": "stream",
     "text": [
      "Confusion Matrix: \n",
      " [[3029   12]\n",
      " [  19   54]]\n",
      "\n",
      "Recall 'TP/TP+FN' =  0.7397260273972602\n"
     ]
    }
   ],
   "source": [
    "from sklearn.metrics import roc_curve, auc\n",
    "\n",
    "dtrain = xgb.DMatrix(X_train[features], label=y_train)\n",
    "dtest = xgb.DMatrix(X_test[features], label=y_test)\n",
    "from xgboost import XGBClassifier\n",
    "import matplotlib.pyplot as plt\n",
    "\n",
    "param = {\n",
    "        'objective': 'binary:logistic',\n",
    "        'booster': 'gbtree',\n",
    "        'eval_metric': 'auc',\n",
    "        'max_depth': 6,  # the maximum depth of each tree\n",
    "        'eta': 0.003,  # the training step for each iteration\n",
    "        'silent': 1}  # logging mode - quiet}  # the number of classes that exist in this datset\n",
    "num_round = 5000  # the number of training iterations    \n",
    "bst = xgb.train(param, dtrain, num_round)\n",
    "preds = bst.predict(dtest)\n",
    "\n",
    "print (roc_auc_score(y_test, preds))\n",
    "fpr, tpr, _ = roc_curve(y_test, preds)\n",
    "roc_auc = auc(fpr, tpr)\n",
    "print('AUC:', np.round(roc_auc,4))\n",
    "\n",
    "ypred_bst = np.array(bst.predict(dtest,ntree_limit=bst.best_iteration))\n",
    "ypred_bst  = ypred_bst > 0.5\n",
    "ypred_bst = ypred_bst.astype(int)  \n",
    "\n",
    "plt.title('Receiver Operating Characteristic')\n",
    "plt.plot(fpr, tpr, 'b', label = 'AUC = %0.2f' % roc_auc)\n",
    "plt.legend(loc = 'lower right')\n",
    "plt.plot([0, 1], [0, 1],'r--')\n",
    "plt.xlim([0, 1])\n",
    "plt.ylim([0, 1])\n",
    "plt.ylabel('True Positive Rate')\n",
    "plt.xlabel('False Positive Rate')\n",
    "plt.show()\n",
    "print(\"Confusion Matrix: \\n\",confusion_matrix(y_test,ypred_bst))\n",
    "print(\"\\nRecall 'TP/TP+FN' = \", recall_score(y_test,ypred_bst))"
   ]
  },
  {
   "cell_type": "markdown",
   "metadata": {},
   "source": [
    "We can see above that xgboost algorithm has higher auc score (0.9819) than adaboost decision tree and random forest, as it is evident from the ROC curve. Hence we consider xgboost for prediction of live data"
   ]
  },
  {
   "cell_type": "markdown",
   "metadata": {},
   "source": [
    "### Final thoughts on which model to consider on application:\n",
    "* Our main Aim is to predict wether earthquake will happen or not at a given day and place. So we definitely would **not like the model with higher False Neagtive values , since its more dangerous to predict as no earthquake while in reality earthquake happend than predicting earthquake will happen given in reality it did not**. Since its `better safe than sorry!!`, we can allow False positive more than False negative \n",
    "\n",
    "* After seeing these comparision on auc_roc score, confusion matrix, and recall score, since all the above algorithm have given similar result with slightly different recall scores, Xgboost with `FN=37` but with higher `auc_score 0f 0.98` performs over-all better. Hence for webapplication deployment, I have chosen Xgboost as it also faster than adaboost"
   ]
  },
  {
   "cell_type": "markdown",
   "metadata": {},
   "source": [
    "#### Preparing prediction and plot for live unknown data we got in `df_predict` with `mag_outcome = Nan`"
   ]
  },
  {
   "cell_type": "code",
   "execution_count": null,
   "metadata": {},
   "outputs": [],
   "source": [
    "\n",
    "dlive = xgb.DMatrix(df_predict[features]) #, label=[])\n",
    "preds = bst.predict(dlive)\n",
    "\n",
    "plt.plot(preds)\n",
    "plt.show()"
   ]
  },
  {
   "cell_type": "markdown",
   "metadata": {},
   "source": [
    "### Prediction \n",
    "\n",
    "* Select specific features such as `data`,`place`,`long`,`lat` and give earthquake probablity from prediction at that place and date as `quake` probability\n",
    "* with taking only 7 days rolling period data from predict dataframe since this outcome value is NaN and we need to predict next 7 days period."
   ]
  },
  {
   "cell_type": "code",
   "execution_count": null,
   "metadata": {},
   "outputs": [],
   "source": [
    "live_set = df_predict[['date', 'place', 'latitude', 'longitude']]\n",
    "live_set.loc[:,'quake'] = preds\n",
    "# aggregate down dups\n",
    "live_set = live_set.groupby(['date', 'place'], as_index=False).mean()\n",
    "\n",
    "# increment date to include DAYS_OUT_TO_PREDICT\n",
    "live_set['date']= pd.to_datetime(live_set['date'],format='%Y-%m-%d') \n",
    "live_set['date'] = live_set['date'] + pd.to_timedelta(7,unit='d')\n",
    "\n",
    "live_set.tail()"
   ]
  },
  {
   "cell_type": "code",
   "execution_count": null,
   "metadata": {},
   "outputs": [],
   "source": [
    "import datetime as dt\n",
    "# convert date to proper format for prediction\n",
    "days = list(set([d for d in live_set['date'].astype(str) if d > dt.datetime.today().strftime('%Y-%m-%d')]))\n",
    "days.sort()\n",
    "\n",
    "# Predict NaN outcome value in earthquake for next day 1.\n",
    "predict_day=days[2]\n",
    "predict_day"
   ]
  },
  {
   "cell_type": "code",
   "execution_count": null,
   "metadata": {},
   "outputs": [],
   "source": [
    "# place, date, lat and long with earthquake probability for next 7 days\n",
    "for i in range(0,7):\n",
    "    live_set_tmp = live_set[live_set['date'] == days[i]]\n",
    "    plt.scatter(live_set_tmp['longitude'], live_set_tmp['latitude'], s=(live_set_tmp['quake'] * 100))\n",
    "    plt.suptitle('Future Earthquakes for ' + days[i])\n",
    "    plt.xlabel('Longitude')\n",
    "    plt.ylabel('Latitude')\n",
    "    plt.grid()\n",
    "    plt.show()"
   ]
  },
  {
   "cell_type": "markdown",
   "metadata": {},
   "source": [
    "### Final thoughts:\n",
    "\n",
    "\n",
    "1. So far the model looks good with xgboost as chosen model for predictions in web app haveing higher auc score and higher recall_score as I have explained under XGBoost result section why auc and recall score are chosen.\n",
    "\n",
    "\n",
    "2. Now its time to deploy the model on web application with flask and I have chosen it to deploy on https://www.pythonanywhere.com/ which is a free hosting cloud platform for web flask applications.\n",
    "\n",
    "\n",
    "3. Main Idea of Application will be predicting or forecasting these earthquake sites on given day all over the world.\n",
    "\n",
    "\n",
    "4. The user has option to change the date using a slider and see look at predicted places where earthquake is likely to happen.\n"
   ]
  }
 ],
 "metadata": {
  "kernelspec": {
   "display_name": "Python 3 (ipykernel)",
   "language": "python",
   "name": "python3"
  },
  "language_info": {
   "codemirror_mode": {
    "name": "ipython",
    "version": 3
   },
   "file_extension": ".py",
   "mimetype": "text/x-python",
   "name": "python",
   "nbconvert_exporter": "python",
   "pygments_lexer": "ipython3",
   "version": "3.9.12"
  }
 },
 "nbformat": 4,
 "nbformat_minor": 4
}
